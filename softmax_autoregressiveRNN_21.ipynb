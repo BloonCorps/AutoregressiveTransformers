{
 "cells": [
  {
   "cell_type": "markdown",
   "metadata": {},
   "source": [
    "### Autoregressive RNN With Softmax on Alanine Dipeptide"
   ]
  },
  {
   "cell_type": "code",
   "execution_count": 1,
   "metadata": {},
   "outputs": [],
   "source": [
    "import numpy as np \n",
    "import pandas as pd \n",
    "import matplotlib.pyplot as plt\n",
    "import os\n",
    "\n",
    "import torch\n",
    "import torch.nn as nn\n",
    "import torch.nn.functional as F\n",
    "import torchvision\n",
    "import torchvision.transforms as transforms\n",
    "import torch.distributions as dist\n",
    "import torch.optim as optim\n",
    "\n",
    "from torch.utils.data import DataLoader\n",
    "import sys\n",
    "import os"
   ]
  },
  {
   "cell_type": "code",
   "execution_count": 2,
   "metadata": {},
   "outputs": [],
   "source": [
    "## load required modules\n",
    "## load MMCDataset class\n",
    "## MMCD_path = \"/path/to/MMCD\"\n",
    "MMCD_path = \"./\"\n",
    "sys.path.append(MMCD_path)\n",
    "from mmcd import MMCDataset\n",
    "\n",
    "name = 'dialanine'\n",
    "data_path = os.path.join(MMCD_path, \"data\")\n",
    "\n",
    "dataset_train = MMCDataset(root = data_path,\n",
    "                           molecule_name = name,\n",
    "                           train = True,\n",
    "                           coordinate_type = 'internal',\n",
    "                           lazy_load = False)\n",
    "\n",
    "train_loader = DataLoader(dataset_train,\n",
    "                          num_workers = 1,\n",
    "                          batch_size = 256, #256 is the default batch size\n",
    "                          shuffle = True)"
   ]
  },
  {
   "cell_type": "code",
   "execution_count": 3,
   "metadata": {},
   "outputs": [],
   "source": [
    "def flatten_data(data):\n",
    "    \"\"\"\n",
    "    Input: data is a single dictionary item. In this case, for dialanine, it is a dictionary item \n",
    "    with six keys, each referencing a torch.tensor of size [256, 256, 256, (256, 19),(256, 19), (256, 19)]\n",
    "    respectively. The batch size is 256, so the batch data is size [256, 256, 256, (256, 19), (256, 19), \n",
    "    (256, 19)]. Each dialiene molecule is  size [1, 1, 1, 19, 19, 19].\n",
    "    \n",
    "    Output: the dictionary item flattened into a 1-D tensor. It is a 1-D tensor of size 60\n",
    "    for dialanine. We want a length 256 data object where each item is a 60-length 1-d tensor\n",
    "    The resulting data object has shape: torch.Size of [256, 60].\n",
    "    \"\"\"\n",
    "    result = torch.cat(\n",
    "        [data['reference_particle_2_bond'][:, None],\n",
    "         data['reference_particle_3_bond'][:, None],\n",
    "         data['reference_particle_3_angle'][:, None],\n",
    "         data['bond'], data['angle'], data['dihedral']],\n",
    "        dim = -1)\n",
    "\n",
    "    return result\n",
    "\n",
    "def extract_ramachandran(data):\n",
    "    result = torch.cat(\n",
    "        [data['reference_particle_2_bond'][:, None],\n",
    "         data['reference_particle_3_bond'][:, None],\n",
    "         data['reference_particle_3_angle'][:, None],\n",
    "         data['bond'], data['angle'], data['dihedral']],\n",
    "        dim = -1)\n",
    "\n",
    "    return result[:, [43,45]]\n",
    "\n",
    "def rebuild(flat, data_length = 19):\n",
    "    \"\"\"\n",
    "    Input: flattened tensor of torch.Size [256, 60], rebuild and return\n",
    "    the original molecule, a dictionary item. The inverse of the flatten_data function.\n",
    "    \"\"\"\n",
    "    data_length = 19 #this is particular to dialene\n",
    "    result = {}\n",
    "\n",
    "    result['reference_particle_1_xyz'] = torch.zeros((flat.shape[0], 3))\n",
    "    result['reference_particle_2_bond'] = flat[:, 0]\n",
    "    result['reference_particle_3_bond'] = flat[:, 1]\n",
    "    result['reference_particle_3_angle'] = flat[:, 2]\n",
    "\n",
    "    start = 3\n",
    "    end = start + data_length\n",
    "    result['bond'] = flat[:, start:end]\n",
    "\n",
    "    start = end\n",
    "    end = start + data_length\n",
    "    result['angle'] = flat[:, start:end]\n",
    "\n",
    "    start = end\n",
    "    end = start + data_length\n",
    "    result['dihedral'] = flat[:, start:end]\n",
    "\n",
    "    return result"
   ]
  },
  {
   "cell_type": "code",
   "execution_count": 4,
   "metadata": {},
   "outputs": [],
   "source": [
    "def number_to_vec(ic, num_decimals = 2):\n",
    "    \"\"\"\n",
    "    [1.80, 1.84, 0.97] -> [180, 184, 097]\n",
    "    \"\"\"\n",
    "    ic = torch.trunc(100*ic)\n",
    "    ic = ic/100\n",
    "\n",
    "    indicies = ic * 10**num_decimals + 314\n",
    "    indicies = indicies.long()\n",
    "    num_of_classes = 2 * 3.14 * 10**num_decimals + 1\n",
    "    one_hots = F.one_hot(indicies, num_classes = int(num_of_classes))\n",
    "\n",
    "    return one_hots\n",
    "\n",
    "def number_to_vec_class(ic, num_decimals = 2):\n",
    "    ic = torch.trunc(100*ic)\n",
    "    ic = ic/100\n",
    "\n",
    "    indicies = ic * 10**num_decimals + 314\n",
    "    indicies = indicies.long()\n",
    "\n",
    "    return indicies\n",
    "\n",
    "def index_to_number(ic, num_decimals = 2):\n",
    "    ic = ic.float()\n",
    "    return (ic-314)/100\n",
    "\n",
    "def vec_to_number(one_hots, num_decimals = 2):\n",
    "    labels_again = (torch.argmax(one_hots, dim=2) -314)/100 #replace with dim=2 once u get it going\n",
    "    return labels_again"
   ]
  },
  {
   "cell_type": "code",
   "execution_count": 44,
   "metadata": {},
   "outputs": [],
   "source": [
    "class InternalCoordinateSoftmaxJordanRNNv2(nn.Module):\n",
    "    def __init__(self, batch_size = 256):\n",
    "        super(InternalCoordinateSoftmaxJordanRNNv2, self).__init__()\n",
    "        \n",
    "        self.batch_size = 256\n",
    "        self.hidden_size = 10\n",
    "        self.steps = 2\n",
    "        \n",
    "        #Modules for everything that is not the first input.\n",
    "        self.hidden_to_energy = nn.ModuleList([nn.Linear(10, 629) for index in range(20)]) #Energy\n",
    "        self.energy_to_hidden = nn.ModuleList([nn.Linear(629, 10) for index in range(20)])\n",
    "        self.x_to_hidden = nn.ModuleList([nn.Linear(1, 10) for index in range(20)])\n",
    "\n",
    "        self.activation_function = torch.nn.Softmax(dim=1)\n",
    "        self.loss_function = nn.CrossEntropyLoss()\n",
    "\n",
    "    def forward(self, X):  \n",
    "        h = torch.zeros(X.size()[0], self.hidden_size, 1).to(device) #[256, number_of_bins = 628, 1]\n",
    "        energy = self.hidden_to_energy[0](h[:, :, 0]) #[256, 628, 1]\n",
    "        energy = torch.unsqueeze(energy, dim=2)\n",
    "\n",
    "        for index in range(1, self.steps, 1): #Recall generating the 0th item, so generate 18 more items\n",
    "\n",
    "            x_t = X[:, index-1:index] \n",
    "            energy_t_minus_1 = energy[:, :, index-1]  \n",
    "\n",
    "            a = self.x_to_hidden[index](x_t.float()) \n",
    "            b = torch.relu( self.energy_to_hidden[index](energy_t_minus_1)/1000 ) #this index!!!\n",
    "\n",
    "            new_h = torch.relu( a ) # + b ) #size = [256, 10, 1]\n",
    "            \n",
    "            new_energy = self.hidden_to_energy[index](new_h)\n",
    "            \n",
    "            new_energy = torch.unsqueeze(new_energy, dim = 2)\n",
    "            new_h = torch.unsqueeze(new_h, dim = 2)\n",
    "\n",
    "            h = torch.cat([h, new_h], dim = 2)\n",
    "            energy = torch.cat([energy, new_energy], dim = 2)\n",
    "\n",
    "        return h, energy\n",
    "\n",
    "    '''h = torch.zeros(X.size()[0], self.hidden_size, 1).to(device) #[256, number_of_bins = 628, 1]\n",
    "        energy = self.hidden_to_energy[0](h[:, :, 0]) #[256, 628, 1]\n",
    "        energy = torch.unsqueeze(energy, dim=2)\n",
    "\n",
    "        categorical = self.activation_function(energy)\n",
    "        temp_distribution = dist.Categorical(categorical)\n",
    "        \n",
    "        X = temp_distribution.sample()\n",
    "        X = X.unsqueeze(dim = 1) #[num_samples, 1]\n",
    "        #print(energy.size())'''\n",
    "\n",
    "    \n",
    "    def sample(self, num_samples = 256):\n",
    "        h = torch.zeros(num_samples, self.hidden_size, 1).to(device) #[256, number_of_bins, 1]\n",
    "        energy = self.hidden_to_energy[0](h[:, :, 0])\n",
    "        categorical = self.activation_function(energy)\n",
    "        temp_distribution = dist.Categorical(categorical)\n",
    "        X = temp_distribution.sample()\n",
    "        X = X.unsqueeze(dim = 1) #[num_samples, 1]\n",
    "        energy = energy.unsqueeze(dim = 2)\n",
    "        #print(energy.size())\n",
    "\n",
    "        for index in range(1, self.steps, 1): #Recall generating the 0th item, so generate 18 more items\n",
    "            \n",
    "            #print(index)\n",
    "\n",
    "            x_t = X[:, index-1:index] \n",
    "            energy_t_minus_1 = energy[:, :, index-1]  \n",
    "\n",
    "            a = self.x_to_hidden[index](x_t.float()) \n",
    "            b = torch.relu(self.energy_to_hidden[index](energy_t_minus_1)/1000)\n",
    "\n",
    "            new_h = torch.relu( a )#+ ) b ) #size = [256, 10, 1]\n",
    "            new_energy = self.hidden_to_energy[index](new_h)\n",
    "\n",
    "            temp_categorical = self.activation_function(new_energy) \n",
    "            temp_distribution = dist.Categorical(categorical)\n",
    "            new_x = temp_distribution.sample()\n",
    "            \n",
    "            new_energy = torch.unsqueeze(new_energy, dim = 2)\n",
    "            new_h = torch.unsqueeze(new_h, dim = 2)\n",
    "\n",
    "            h = torch.cat([h, new_h], dim = 2)\n",
    "            energy = torch.cat([energy, new_energy], dim = 2)\n",
    "            X = torch.cat([X, new_x.unsqueeze(dim=1)], dim = 1)\n",
    "\n",
    "        return h, X\n",
    "\n",
    "    def loss(self, X, Y, tensor_form = False):\n",
    "        #X is a categorical distribution and Y is the target (one hot encoding).\n",
    "        #this one gave me AIDs to solve\n",
    "        #https://discuss.pytorch.org/t/cross-entropy-loss-for-a-sequence-time-series-of-output/4309\n",
    "        #X = [256, 628, 19]\n",
    "        #Y = [256, 19]\n",
    "        Y = Y.permute(1, 0)\n",
    "        X = X.permute(2, 0, 1)\n",
    "\n",
    "        #X = [19, 256, 628]\n",
    "        #Y = [19, 256]\n",
    "\n",
    "        X = torch.flatten(X, start_dim=0, end_dim=1) \n",
    "        Y = torch.flatten(Y)   \n",
    "\n",
    "        #print(X.size())\n",
    "        #print(Y.size())\n",
    "        \n",
    "        loss_value = self.loss_function(X, Y)\n",
    "        return loss_value        \n",
    "\n",
    "device = torch.device(\"cuda\")\n",
    "model = InternalCoordinateSoftmaxJordanRNNv2().to(device)\n",
    "optimizer = optim.Adam(model.parameters(), lr=2e-3)  #lr is step size, arbitrarily picked."
   ]
  },
  {
   "cell_type": "markdown",
   "metadata": {},
   "source": [
    "### Training Loop"
   ]
  },
  {
   "cell_type": "code",
   "execution_count": 45,
   "metadata": {},
   "outputs": [
    {
     "name": "stderr",
     "output_type": "stream",
     "text": [
      "Exception ignored in: <function _MultiProcessingDataLoaderIter.__del__ at 0x7f4a67d65af0>\n",
      "Traceback (most recent call last):\n",
      "  File \"/home/jared/anaconda3/envs/MMCD/lib/python3.8/site-packages/torch/utils/data/dataloader.py\", line 1328, in __del__\n",
      "    self._shutdown_workers()\n",
      "  File \"/home/jared/anaconda3/envs/MMCD/lib/python3.8/site-packages/torch/utils/data/dataloader.py\", line 1320, in _shutdown_workers\n",
      "    if w.is_alive():\n",
      "  File \"/home/jared/anaconda3/envs/MMCD/lib/python3.8/multiprocessing/process.py\", line 160, in is_alive\n",
      "    "
     ]
    },
    {
     "name": "stdout",
     "output_type": "stream",
     "text": [
      "Train Epoch: 0 [0/625 (0%)]\tLoss: 0.155077\n"
     ]
    },
    {
     "name": "stderr",
     "output_type": "stream",
     "text": [
      "assert self._parent_pid == os.getpid(), 'can only test a child process'\n",
      "AssertionError: can only test a child process\n"
     ]
    },
    {
     "name": "stdout",
     "output_type": "stream",
     "text": [
      "Train Epoch: 0 [100/625 (16%)]\tLoss: 0.019713\n",
      "Train Epoch: 0 [200/625 (32%)]\tLoss: 0.008349\n",
      "Train Epoch: 0 [300/625 (48%)]\tLoss: 0.007409\n",
      "Train Epoch: 0 [400/625 (64%)]\tLoss: 0.006930\n",
      "Train Epoch: 0 [500/625 (80%)]\tLoss: 0.006741\n",
      "Train Epoch: 0 [600/625 (96%)]\tLoss: 0.006568\n"
     ]
    },
    {
     "name": "stderr",
     "output_type": "stream",
     "text": [
      "Exception ignored in: <function _MultiProcessingDataLoaderIter.__del__ at 0x7f4a67d65af0>\n",
      "Traceback (most recent call last):\n",
      "  File \"/home/jared/anaconda3/envs/MMCD/lib/python3.8/site-packages/torch/utils/data/dataloader.py\", line 1328, in __del__\n",
      "    self._shutdown_workers()\n",
      "  File \"/home/jared/anaconda3/envs/MMCD/lib/python3.8/site-packages/torch/utils/data/dataloader.py\", line 1320, in _shutdown_workers\n",
      "    if w.is_alive():\n",
      "  File \"/home/jared/anaconda3/envs/MMCD/lib/python3.8/multiprocessing/process.py\", line 160, in is_alive\n",
      "    assert self._parent_pid == os.getpid(), 'can only test a child process'\n",
      "AssertionError: can only test a child process\n"
     ]
    },
    {
     "name": "stdout",
     "output_type": "stream",
     "text": [
      "Train Epoch: 1 [0/625 (0%)]\tLoss: 0.006577\n",
      "Train Epoch: 1 [100/625 (16%)]\tLoss: 0.006333\n",
      "Train Epoch: 1 [200/625 (32%)]\tLoss: 0.006315\n",
      "Train Epoch: 1 [300/625 (48%)]\tLoss: 0.006163\n",
      "Train Epoch: 1 [400/625 (64%)]\tLoss: 0.006151\n",
      "Train Epoch: 1 [500/625 (80%)]\tLoss: 0.005974\n",
      "Train Epoch: 1 [600/625 (96%)]\tLoss: 0.006024\n"
     ]
    },
    {
     "name": "stderr",
     "output_type": "stream",
     "text": [
      "Exception ignored in: <function _MultiProcessingDataLoaderIter.__del__ at 0x7f4a67d65af0>\n",
      "Traceback (most recent call last):\n",
      "  File \"/home/jared/anaconda3/envs/MMCD/lib/python3.8/site-packages/torch/utils/data/dataloader.py\", line 1328, in __del__\n",
      "    self._shutdown_workers()\n",
      "  File \"/home/jared/anaconda3/envs/MMCD/lib/python3.8/site-packages/torch/utils/data/dataloader.py\", line 1320, in _shutdown_workers\n",
      "    if w.is_alive():\n",
      "  File \"/home/jared/anaconda3/envs/MMCD/lib/python3.8/multiprocessing/process.py\", line 160, in is_alive\n",
      "    assert self._parent_pid == os.getpid(), 'can only test a child process'\n",
      "AssertionError: can only test a child process\n"
     ]
    },
    {
     "name": "stdout",
     "output_type": "stream",
     "text": [
      "Train Epoch: 2 [0/625 (0%)]\tLoss: 0.005903\n",
      "Train Epoch: 2 [100/625 (16%)]\tLoss: 0.005931\n",
      "Train Epoch: 2 [200/625 (32%)]\tLoss: 0.005768\n",
      "Train Epoch: 2 [300/625 (48%)]\tLoss: 0.005904\n",
      "Train Epoch: 2 [400/625 (64%)]\tLoss: 0.005749\n",
      "Train Epoch: 2 [500/625 (80%)]\tLoss: 0.005772\n",
      "Train Epoch: 2 [600/625 (96%)]\tLoss: 0.005980\n"
     ]
    },
    {
     "name": "stderr",
     "output_type": "stream",
     "text": [
      "Exception ignored in: <function _MultiProcessingDataLoaderIter.__del__ at 0x7f4a67d65af0>\n",
      "Traceback (most recent call last):\n",
      "  File \"/home/jared/anaconda3/envs/MMCD/lib/python3.8/site-packages/torch/utils/data/dataloader.py\", line 1328, in __del__\n",
      "    self._shutdown_workers()\n",
      "  File \"/home/jared/anaconda3/envs/MMCD/lib/python3.8/site-packages/torch/utils/data/dataloader.py\", line 1320, in _shutdown_workers\n",
      "    if w.is_alive():\n",
      "  File \"/home/jared/anaconda3/envs/MMCD/lib/python3.8/multiprocessing/process.py\", line 160, in is_alive\n",
      "    assert self._parent_pid == os.getpid(), 'can only test a child process'\n",
      "AssertionError: can only test a child process\n"
     ]
    },
    {
     "name": "stdout",
     "output_type": "stream",
     "text": [
      "Train Epoch: 3 [0/625 (0%)]\tLoss: 0.005704\n",
      "Train Epoch: 3 [100/625 (16%)]\tLoss: 0.005776\n",
      "Train Epoch: 3 [200/625 (32%)]\tLoss: 0.005774\n",
      "Train Epoch: 3 [300/625 (48%)]\tLoss: 0.005630\n",
      "Train Epoch: 3 [400/625 (64%)]\tLoss: 0.005667\n",
      "Train Epoch: 3 [500/625 (80%)]\tLoss: 0.005625\n",
      "Train Epoch: 3 [600/625 (96%)]\tLoss: 0.005720\n"
     ]
    },
    {
     "name": "stderr",
     "output_type": "stream",
     "text": [
      "Exception ignored in: <function _MultiProcessingDataLoaderIter.__del__ at 0x7f4a67d65af0>\n",
      "Traceback (most recent call last):\n",
      "  File \"/home/jared/anaconda3/envs/MMCD/lib/python3.8/site-packages/torch/utils/data/dataloader.py\", line 1328, in __del__\n",
      "    self._shutdown_workers()\n",
      "  File \"/home/jared/anaconda3/envs/MMCD/lib/python3.8/site-packages/torch/utils/data/dataloader.py\", line 1320, in _shutdown_workers\n",
      "    if w.is_alive():\n",
      "  File \"/home/jared/anaconda3/envs/MMCD/lib/python3.8/multiprocessing/process.py\", line 160, in is_alive\n",
      "    assert self._parent_pid == os.getpid(), 'can only test a child process'\n",
      "AssertionError: can only test a child process\n"
     ]
    },
    {
     "name": "stdout",
     "output_type": "stream",
     "text": [
      "Train Epoch: 4 [0/625 (0%)]\tLoss: 0.005785\n",
      "Train Epoch: 4 [100/625 (16%)]\tLoss: 0.005654\n",
      "Train Epoch: 4 [200/625 (32%)]\tLoss: 0.005759\n",
      "Train Epoch: 4 [300/625 (48%)]\tLoss: 0.005622\n",
      "Train Epoch: 4 [400/625 (64%)]\tLoss: 0.005704\n"
     ]
    },
    {
     "ename": "KeyboardInterrupt",
     "evalue": "",
     "output_type": "error",
     "traceback": [
      "\u001b[0;31m---------------------------------------------------------------------------\u001b[0m",
      "\u001b[0;31mKeyboardInterrupt\u001b[0m                         Traceback (most recent call last)",
      "\u001b[0;32m<ipython-input-45-5386c0217bc6>\u001b[0m in \u001b[0;36m<module>\u001b[0;34m\u001b[0m\n\u001b[1;32m     37\u001b[0m \u001b[0;34m\u001b[0m\u001b[0m\n\u001b[1;32m     38\u001b[0m \u001b[0;32mfor\u001b[0m \u001b[0mepoch\u001b[0m \u001b[0;32min\u001b[0m \u001b[0mrange\u001b[0m\u001b[0;34m(\u001b[0m\u001b[0;36m0\u001b[0m\u001b[0;34m,\u001b[0m \u001b[0;36m10\u001b[0m\u001b[0;34m,\u001b[0m \u001b[0;36m1\u001b[0m\u001b[0;34m)\u001b[0m\u001b[0;34m:\u001b[0m\u001b[0;34m\u001b[0m\u001b[0;34m\u001b[0m\u001b[0m\n\u001b[0;32m---> 39\u001b[0;31m     \u001b[0mtrain\u001b[0m\u001b[0;34m(\u001b[0m\u001b[0mepoch\u001b[0m\u001b[0;34m)\u001b[0m\u001b[0;34m\u001b[0m\u001b[0;34m\u001b[0m\u001b[0m\n\u001b[0m\u001b[1;32m     40\u001b[0m \u001b[0;34m\u001b[0m\u001b[0m\n\u001b[1;32m     41\u001b[0m     '''\n",
      "\u001b[0;32m<ipython-input-45-5386c0217bc6>\u001b[0m in \u001b[0;36mtrain\u001b[0;34m(epoch)\u001b[0m\n\u001b[1;32m      5\u001b[0m     \u001b[0mtrain_loss\u001b[0m \u001b[0;34m=\u001b[0m \u001b[0;36m0\u001b[0m\u001b[0;34m\u001b[0m\u001b[0;34m\u001b[0m\u001b[0m\n\u001b[1;32m      6\u001b[0m \u001b[0;34m\u001b[0m\u001b[0m\n\u001b[0;32m----> 7\u001b[0;31m     \u001b[0;32mfor\u001b[0m \u001b[0mbatch_idx\u001b[0m\u001b[0;34m,\u001b[0m \u001b[0;34m(\u001b[0m\u001b[0mdata\u001b[0m\u001b[0;34m,\u001b[0m \u001b[0m_\u001b[0m\u001b[0;34m)\u001b[0m \u001b[0;32min\u001b[0m \u001b[0menumerate\u001b[0m\u001b[0;34m(\u001b[0m\u001b[0mtrain_loader\u001b[0m\u001b[0;34m)\u001b[0m\u001b[0;34m:\u001b[0m\u001b[0;34m\u001b[0m\u001b[0;34m\u001b[0m\u001b[0m\n\u001b[0m\u001b[1;32m      8\u001b[0m         \u001b[0;31m#Flatten the data into a tensor of size (256, 60) tensor before putting it into the GPU\u001b[0m\u001b[0;34m\u001b[0m\u001b[0;34m\u001b[0m\u001b[0;34m\u001b[0m\u001b[0m\n\u001b[1;32m      9\u001b[0m         \u001b[0mdata\u001b[0m \u001b[0;34m=\u001b[0m \u001b[0mflatten_data\u001b[0m\u001b[0;34m(\u001b[0m\u001b[0mdata\u001b[0m\u001b[0;34m)\u001b[0m\u001b[0;34m\u001b[0m\u001b[0;34m\u001b[0m\u001b[0m\n",
      "\u001b[0;32m~/anaconda3/envs/MMCD/lib/python3.8/site-packages/torch/utils/data/dataloader.py\u001b[0m in \u001b[0;36m__next__\u001b[0;34m(self)\u001b[0m\n\u001b[1;32m    519\u001b[0m             \u001b[0;32mif\u001b[0m \u001b[0mself\u001b[0m\u001b[0;34m.\u001b[0m\u001b[0m_sampler_iter\u001b[0m \u001b[0;32mis\u001b[0m \u001b[0;32mNone\u001b[0m\u001b[0;34m:\u001b[0m\u001b[0;34m\u001b[0m\u001b[0;34m\u001b[0m\u001b[0m\n\u001b[1;32m    520\u001b[0m                 \u001b[0mself\u001b[0m\u001b[0;34m.\u001b[0m\u001b[0m_reset\u001b[0m\u001b[0;34m(\u001b[0m\u001b[0;34m)\u001b[0m\u001b[0;34m\u001b[0m\u001b[0;34m\u001b[0m\u001b[0m\n\u001b[0;32m--> 521\u001b[0;31m             \u001b[0mdata\u001b[0m \u001b[0;34m=\u001b[0m \u001b[0mself\u001b[0m\u001b[0;34m.\u001b[0m\u001b[0m_next_data\u001b[0m\u001b[0;34m(\u001b[0m\u001b[0;34m)\u001b[0m\u001b[0;34m\u001b[0m\u001b[0;34m\u001b[0m\u001b[0m\n\u001b[0m\u001b[1;32m    522\u001b[0m             \u001b[0mself\u001b[0m\u001b[0;34m.\u001b[0m\u001b[0m_num_yielded\u001b[0m \u001b[0;34m+=\u001b[0m \u001b[0;36m1\u001b[0m\u001b[0;34m\u001b[0m\u001b[0;34m\u001b[0m\u001b[0m\n\u001b[1;32m    523\u001b[0m             \u001b[0;32mif\u001b[0m \u001b[0mself\u001b[0m\u001b[0;34m.\u001b[0m\u001b[0m_dataset_kind\u001b[0m \u001b[0;34m==\u001b[0m \u001b[0m_DatasetKind\u001b[0m\u001b[0;34m.\u001b[0m\u001b[0mIterable\u001b[0m \u001b[0;32mand\u001b[0m\u001b[0;31m \u001b[0m\u001b[0;31m\\\u001b[0m\u001b[0;34m\u001b[0m\u001b[0;34m\u001b[0m\u001b[0m\n",
      "\u001b[0;32m~/anaconda3/envs/MMCD/lib/python3.8/site-packages/torch/utils/data/dataloader.py\u001b[0m in \u001b[0;36m_next_data\u001b[0;34m(self)\u001b[0m\n\u001b[1;32m   1184\u001b[0m \u001b[0;34m\u001b[0m\u001b[0m\n\u001b[1;32m   1185\u001b[0m             \u001b[0;32massert\u001b[0m \u001b[0;32mnot\u001b[0m \u001b[0mself\u001b[0m\u001b[0;34m.\u001b[0m\u001b[0m_shutdown\u001b[0m \u001b[0;32mand\u001b[0m \u001b[0mself\u001b[0m\u001b[0;34m.\u001b[0m\u001b[0m_tasks_outstanding\u001b[0m \u001b[0;34m>\u001b[0m \u001b[0;36m0\u001b[0m\u001b[0;34m\u001b[0m\u001b[0;34m\u001b[0m\u001b[0m\n\u001b[0;32m-> 1186\u001b[0;31m             \u001b[0midx\u001b[0m\u001b[0;34m,\u001b[0m \u001b[0mdata\u001b[0m \u001b[0;34m=\u001b[0m \u001b[0mself\u001b[0m\u001b[0;34m.\u001b[0m\u001b[0m_get_data\u001b[0m\u001b[0;34m(\u001b[0m\u001b[0;34m)\u001b[0m\u001b[0;34m\u001b[0m\u001b[0;34m\u001b[0m\u001b[0m\n\u001b[0m\u001b[1;32m   1187\u001b[0m             \u001b[0mself\u001b[0m\u001b[0;34m.\u001b[0m\u001b[0m_tasks_outstanding\u001b[0m \u001b[0;34m-=\u001b[0m \u001b[0;36m1\u001b[0m\u001b[0;34m\u001b[0m\u001b[0;34m\u001b[0m\u001b[0m\n\u001b[1;32m   1188\u001b[0m             \u001b[0;32mif\u001b[0m \u001b[0mself\u001b[0m\u001b[0;34m.\u001b[0m\u001b[0m_dataset_kind\u001b[0m \u001b[0;34m==\u001b[0m \u001b[0m_DatasetKind\u001b[0m\u001b[0;34m.\u001b[0m\u001b[0mIterable\u001b[0m\u001b[0;34m:\u001b[0m\u001b[0;34m\u001b[0m\u001b[0;34m\u001b[0m\u001b[0m\n",
      "\u001b[0;32m~/anaconda3/envs/MMCD/lib/python3.8/site-packages/torch/utils/data/dataloader.py\u001b[0m in \u001b[0;36m_get_data\u001b[0;34m(self)\u001b[0m\n\u001b[1;32m   1150\u001b[0m         \u001b[0;32melse\u001b[0m\u001b[0;34m:\u001b[0m\u001b[0;34m\u001b[0m\u001b[0;34m\u001b[0m\u001b[0m\n\u001b[1;32m   1151\u001b[0m             \u001b[0;32mwhile\u001b[0m \u001b[0;32mTrue\u001b[0m\u001b[0;34m:\u001b[0m\u001b[0;34m\u001b[0m\u001b[0;34m\u001b[0m\u001b[0m\n\u001b[0;32m-> 1152\u001b[0;31m                 \u001b[0msuccess\u001b[0m\u001b[0;34m,\u001b[0m \u001b[0mdata\u001b[0m \u001b[0;34m=\u001b[0m \u001b[0mself\u001b[0m\u001b[0;34m.\u001b[0m\u001b[0m_try_get_data\u001b[0m\u001b[0;34m(\u001b[0m\u001b[0;34m)\u001b[0m\u001b[0;34m\u001b[0m\u001b[0;34m\u001b[0m\u001b[0m\n\u001b[0m\u001b[1;32m   1153\u001b[0m                 \u001b[0;32mif\u001b[0m \u001b[0msuccess\u001b[0m\u001b[0;34m:\u001b[0m\u001b[0;34m\u001b[0m\u001b[0;34m\u001b[0m\u001b[0m\n\u001b[1;32m   1154\u001b[0m                     \u001b[0;32mreturn\u001b[0m \u001b[0mdata\u001b[0m\u001b[0;34m\u001b[0m\u001b[0;34m\u001b[0m\u001b[0m\n",
      "\u001b[0;32m~/anaconda3/envs/MMCD/lib/python3.8/site-packages/torch/utils/data/dataloader.py\u001b[0m in \u001b[0;36m_try_get_data\u001b[0;34m(self, timeout)\u001b[0m\n\u001b[1;32m    988\u001b[0m         \u001b[0;31m#   (bool: whether successfully get data, any: data if successful else None)\u001b[0m\u001b[0;34m\u001b[0m\u001b[0;34m\u001b[0m\u001b[0;34m\u001b[0m\u001b[0m\n\u001b[1;32m    989\u001b[0m         \u001b[0;32mtry\u001b[0m\u001b[0;34m:\u001b[0m\u001b[0;34m\u001b[0m\u001b[0;34m\u001b[0m\u001b[0m\n\u001b[0;32m--> 990\u001b[0;31m             \u001b[0mdata\u001b[0m \u001b[0;34m=\u001b[0m \u001b[0mself\u001b[0m\u001b[0;34m.\u001b[0m\u001b[0m_data_queue\u001b[0m\u001b[0;34m.\u001b[0m\u001b[0mget\u001b[0m\u001b[0;34m(\u001b[0m\u001b[0mtimeout\u001b[0m\u001b[0;34m=\u001b[0m\u001b[0mtimeout\u001b[0m\u001b[0;34m)\u001b[0m\u001b[0;34m\u001b[0m\u001b[0;34m\u001b[0m\u001b[0m\n\u001b[0m\u001b[1;32m    991\u001b[0m             \u001b[0;32mreturn\u001b[0m \u001b[0;34m(\u001b[0m\u001b[0;32mTrue\u001b[0m\u001b[0;34m,\u001b[0m \u001b[0mdata\u001b[0m\u001b[0;34m)\u001b[0m\u001b[0;34m\u001b[0m\u001b[0;34m\u001b[0m\u001b[0m\n\u001b[1;32m    992\u001b[0m         \u001b[0;32mexcept\u001b[0m \u001b[0mException\u001b[0m \u001b[0;32mas\u001b[0m \u001b[0me\u001b[0m\u001b[0;34m:\u001b[0m\u001b[0;34m\u001b[0m\u001b[0;34m\u001b[0m\u001b[0m\n",
      "\u001b[0;32m~/anaconda3/envs/MMCD/lib/python3.8/multiprocessing/queues.py\u001b[0m in \u001b[0;36mget\u001b[0;34m(self, block, timeout)\u001b[0m\n\u001b[1;32m    105\u001b[0m                 \u001b[0;32mif\u001b[0m \u001b[0mblock\u001b[0m\u001b[0;34m:\u001b[0m\u001b[0;34m\u001b[0m\u001b[0;34m\u001b[0m\u001b[0m\n\u001b[1;32m    106\u001b[0m                     \u001b[0mtimeout\u001b[0m \u001b[0;34m=\u001b[0m \u001b[0mdeadline\u001b[0m \u001b[0;34m-\u001b[0m \u001b[0mtime\u001b[0m\u001b[0;34m.\u001b[0m\u001b[0mmonotonic\u001b[0m\u001b[0;34m(\u001b[0m\u001b[0;34m)\u001b[0m\u001b[0;34m\u001b[0m\u001b[0;34m\u001b[0m\u001b[0m\n\u001b[0;32m--> 107\u001b[0;31m                     \u001b[0;32mif\u001b[0m \u001b[0;32mnot\u001b[0m \u001b[0mself\u001b[0m\u001b[0;34m.\u001b[0m\u001b[0m_poll\u001b[0m\u001b[0;34m(\u001b[0m\u001b[0mtimeout\u001b[0m\u001b[0;34m)\u001b[0m\u001b[0;34m:\u001b[0m\u001b[0;34m\u001b[0m\u001b[0;34m\u001b[0m\u001b[0m\n\u001b[0m\u001b[1;32m    108\u001b[0m                         \u001b[0;32mraise\u001b[0m \u001b[0mEmpty\u001b[0m\u001b[0;34m\u001b[0m\u001b[0;34m\u001b[0m\u001b[0m\n\u001b[1;32m    109\u001b[0m                 \u001b[0;32melif\u001b[0m \u001b[0;32mnot\u001b[0m \u001b[0mself\u001b[0m\u001b[0;34m.\u001b[0m\u001b[0m_poll\u001b[0m\u001b[0;34m(\u001b[0m\u001b[0;34m)\u001b[0m\u001b[0;34m:\u001b[0m\u001b[0;34m\u001b[0m\u001b[0;34m\u001b[0m\u001b[0m\n",
      "\u001b[0;32m~/anaconda3/envs/MMCD/lib/python3.8/multiprocessing/connection.py\u001b[0m in \u001b[0;36mpoll\u001b[0;34m(self, timeout)\u001b[0m\n\u001b[1;32m    255\u001b[0m         \u001b[0mself\u001b[0m\u001b[0;34m.\u001b[0m\u001b[0m_check_closed\u001b[0m\u001b[0;34m(\u001b[0m\u001b[0;34m)\u001b[0m\u001b[0;34m\u001b[0m\u001b[0;34m\u001b[0m\u001b[0m\n\u001b[1;32m    256\u001b[0m         \u001b[0mself\u001b[0m\u001b[0;34m.\u001b[0m\u001b[0m_check_readable\u001b[0m\u001b[0;34m(\u001b[0m\u001b[0;34m)\u001b[0m\u001b[0;34m\u001b[0m\u001b[0;34m\u001b[0m\u001b[0m\n\u001b[0;32m--> 257\u001b[0;31m         \u001b[0;32mreturn\u001b[0m \u001b[0mself\u001b[0m\u001b[0;34m.\u001b[0m\u001b[0m_poll\u001b[0m\u001b[0;34m(\u001b[0m\u001b[0mtimeout\u001b[0m\u001b[0;34m)\u001b[0m\u001b[0;34m\u001b[0m\u001b[0;34m\u001b[0m\u001b[0m\n\u001b[0m\u001b[1;32m    258\u001b[0m \u001b[0;34m\u001b[0m\u001b[0m\n\u001b[1;32m    259\u001b[0m     \u001b[0;32mdef\u001b[0m \u001b[0m__enter__\u001b[0m\u001b[0;34m(\u001b[0m\u001b[0mself\u001b[0m\u001b[0;34m)\u001b[0m\u001b[0;34m:\u001b[0m\u001b[0;34m\u001b[0m\u001b[0;34m\u001b[0m\u001b[0m\n",
      "\u001b[0;32m~/anaconda3/envs/MMCD/lib/python3.8/multiprocessing/connection.py\u001b[0m in \u001b[0;36m_poll\u001b[0;34m(self, timeout)\u001b[0m\n\u001b[1;32m    422\u001b[0m \u001b[0;34m\u001b[0m\u001b[0m\n\u001b[1;32m    423\u001b[0m     \u001b[0;32mdef\u001b[0m \u001b[0m_poll\u001b[0m\u001b[0;34m(\u001b[0m\u001b[0mself\u001b[0m\u001b[0;34m,\u001b[0m \u001b[0mtimeout\u001b[0m\u001b[0;34m)\u001b[0m\u001b[0;34m:\u001b[0m\u001b[0;34m\u001b[0m\u001b[0;34m\u001b[0m\u001b[0m\n\u001b[0;32m--> 424\u001b[0;31m         \u001b[0mr\u001b[0m \u001b[0;34m=\u001b[0m \u001b[0mwait\u001b[0m\u001b[0;34m(\u001b[0m\u001b[0;34m[\u001b[0m\u001b[0mself\u001b[0m\u001b[0;34m]\u001b[0m\u001b[0;34m,\u001b[0m \u001b[0mtimeout\u001b[0m\u001b[0;34m)\u001b[0m\u001b[0;34m\u001b[0m\u001b[0;34m\u001b[0m\u001b[0m\n\u001b[0m\u001b[1;32m    425\u001b[0m         \u001b[0;32mreturn\u001b[0m \u001b[0mbool\u001b[0m\u001b[0;34m(\u001b[0m\u001b[0mr\u001b[0m\u001b[0;34m)\u001b[0m\u001b[0;34m\u001b[0m\u001b[0;34m\u001b[0m\u001b[0m\n\u001b[1;32m    426\u001b[0m \u001b[0;34m\u001b[0m\u001b[0m\n",
      "\u001b[0;32m~/anaconda3/envs/MMCD/lib/python3.8/multiprocessing/connection.py\u001b[0m in \u001b[0;36mwait\u001b[0;34m(object_list, timeout)\u001b[0m\n\u001b[1;32m    929\u001b[0m \u001b[0;34m\u001b[0m\u001b[0m\n\u001b[1;32m    930\u001b[0m             \u001b[0;32mwhile\u001b[0m \u001b[0;32mTrue\u001b[0m\u001b[0;34m:\u001b[0m\u001b[0;34m\u001b[0m\u001b[0;34m\u001b[0m\u001b[0m\n\u001b[0;32m--> 931\u001b[0;31m                 \u001b[0mready\u001b[0m \u001b[0;34m=\u001b[0m \u001b[0mselector\u001b[0m\u001b[0;34m.\u001b[0m\u001b[0mselect\u001b[0m\u001b[0;34m(\u001b[0m\u001b[0mtimeout\u001b[0m\u001b[0;34m)\u001b[0m\u001b[0;34m\u001b[0m\u001b[0;34m\u001b[0m\u001b[0m\n\u001b[0m\u001b[1;32m    932\u001b[0m                 \u001b[0;32mif\u001b[0m \u001b[0mready\u001b[0m\u001b[0;34m:\u001b[0m\u001b[0;34m\u001b[0m\u001b[0;34m\u001b[0m\u001b[0m\n\u001b[1;32m    933\u001b[0m                     \u001b[0;32mreturn\u001b[0m \u001b[0;34m[\u001b[0m\u001b[0mkey\u001b[0m\u001b[0;34m.\u001b[0m\u001b[0mfileobj\u001b[0m \u001b[0;32mfor\u001b[0m \u001b[0;34m(\u001b[0m\u001b[0mkey\u001b[0m\u001b[0;34m,\u001b[0m \u001b[0mevents\u001b[0m\u001b[0;34m)\u001b[0m \u001b[0;32min\u001b[0m \u001b[0mready\u001b[0m\u001b[0;34m]\u001b[0m\u001b[0;34m\u001b[0m\u001b[0;34m\u001b[0m\u001b[0m\n",
      "\u001b[0;32m~/anaconda3/envs/MMCD/lib/python3.8/selectors.py\u001b[0m in \u001b[0;36mselect\u001b[0;34m(self, timeout)\u001b[0m\n\u001b[1;32m    413\u001b[0m         \u001b[0mready\u001b[0m \u001b[0;34m=\u001b[0m \u001b[0;34m[\u001b[0m\u001b[0;34m]\u001b[0m\u001b[0;34m\u001b[0m\u001b[0;34m\u001b[0m\u001b[0m\n\u001b[1;32m    414\u001b[0m         \u001b[0;32mtry\u001b[0m\u001b[0;34m:\u001b[0m\u001b[0;34m\u001b[0m\u001b[0;34m\u001b[0m\u001b[0m\n\u001b[0;32m--> 415\u001b[0;31m             \u001b[0mfd_event_list\u001b[0m \u001b[0;34m=\u001b[0m \u001b[0mself\u001b[0m\u001b[0;34m.\u001b[0m\u001b[0m_selector\u001b[0m\u001b[0;34m.\u001b[0m\u001b[0mpoll\u001b[0m\u001b[0;34m(\u001b[0m\u001b[0mtimeout\u001b[0m\u001b[0;34m)\u001b[0m\u001b[0;34m\u001b[0m\u001b[0;34m\u001b[0m\u001b[0m\n\u001b[0m\u001b[1;32m    416\u001b[0m         \u001b[0;32mexcept\u001b[0m \u001b[0mInterruptedError\u001b[0m\u001b[0;34m:\u001b[0m\u001b[0;34m\u001b[0m\u001b[0;34m\u001b[0m\u001b[0m\n\u001b[1;32m    417\u001b[0m             \u001b[0;32mreturn\u001b[0m \u001b[0mready\u001b[0m\u001b[0;34m\u001b[0m\u001b[0;34m\u001b[0m\u001b[0m\n",
      "\u001b[0;31mKeyboardInterrupt\u001b[0m: "
     ]
    }
   ],
   "source": [
    "loss_over_time = []\n",
    "\n",
    "def train(epoch):\n",
    "    model.train()\n",
    "    train_loss = 0\n",
    "\n",
    "    for batch_idx, (data, _) in enumerate(train_loader):\n",
    "        #Flatten the data into a tensor of size (256, 60) tensor before putting it into the GPU\n",
    "        data = flatten_data(data)\n",
    "        data = number_to_vec_class(data[:, 41:43])\n",
    "\n",
    "        true_target = data\n",
    "        true_target = true_target.to(device)\n",
    "\n",
    "        optimizer.zero_grad()\n",
    "\n",
    "        h, X_pred = model(true_target) #h is the hidden layers, but it is useless\n",
    "\n",
    "        loss = model.loss(X = X_pred, Y = true_target)\n",
    "        \n",
    "        loss.backward()\n",
    "\n",
    "        train_loss += loss.item()\n",
    "        optimizer.step()\n",
    "        \n",
    "        if batch_idx % 100 == 0:#args.log_interval == 0: #by default, args.log_interval = 10\n",
    "            print('Train Epoch:', epoch, '[{}/{} ({:.0f}%)]\\tLoss: {:.6f}'.format(\n",
    "\n",
    "                #len(train_loader) should be 625\n",
    "                batch_idx, #index of the batch we are on \n",
    "                len(train_loader), #how many batches are in the data loader\n",
    "                100. * batch_idx / len(train_loader), #progress percentage\n",
    "                loss.item() / len(train_loader))  #hardcoded batch size\n",
    "                )\n",
    "        \n",
    "            loss_over_time.append(loss.item()/len(train_loader) )\n",
    "\n",
    "for epoch in range(0, 10, 1):\n",
    "    train(epoch)\n",
    "\n",
    "    '''\n",
    "    sample =  model.sample(1000)\n",
    "    sample = rebuild(sample)\n",
    "    potential_energy_q_theta = dataset_train.compute_potential_energy_for_ic(sample)\n",
    "    print(np.sum(potential_energy_q_theta)/1000)\n",
    "    '''"
   ]
  },
  {
   "cell_type": "code",
   "execution_count": 46,
   "metadata": {},
   "outputs": [
    {
     "name": "stdout",
     "output_type": "stream",
     "text": [
      "33\n"
     ]
    },
    {
     "data": {
      "text/plain": [
       "[<matplotlib.lines.Line2D at 0x7f4a1c1f1ee0>]"
      ]
     },
     "execution_count": 46,
     "metadata": {},
     "output_type": "execute_result"
    },
    {
     "data": {
      "image/png": "[encoded data removed]",
      "text/plain": [
       "<Figure size 432x288 with 1 Axes>"
      ]
     },
     "metadata": {
      "needs_background": "light"
     },
     "output_type": "display_data"
    }
   ],
   "source": [
    "ls = np.array(loss_over_time)\n",
    "print(np.size(ls))\n",
    "plt.plot(ls)"
   ]
  },
  {
   "cell_type": "markdown",
   "metadata": {},
   "source": [
    "### Sample From Model to View Distribtuions"
   ]
  },
  {
   "cell_type": "code",
   "execution_count": 47,
   "metadata": {},
   "outputs": [
    {
     "name": "stderr",
     "output_type": "stream",
     "text": [
      "Exception ignored in: <function _MultiProcessingDataLoaderIter.__del__ at 0x7f4a67d65af0>\n",
      "Exception ignored in: Traceback (most recent call last):\n",
      "  File \"/home/jared/anaconda3/envs/MMCD/lib/python3.8/site-packages/torch/utils/data/dataloader.py\", line 1328, in __del__\n",
      "<function _MultiProcessingDataLoaderIter.__del__ at 0x7f4a67d65af0>    \n",
      "Traceback (most recent call last):\n",
      "Exception ignored in: self._shutdown_workers()  File \"/home/jared/anaconda3/envs/MMCD/lib/python3.8/site-packages/torch/utils/data/dataloader.py\", line 1328, in __del__\n",
      "    self._shutdown_workers()\n",
      "  File \"/home/jared/anaconda3/envs/MMCD/lib/python3.8/site-packages/torch/utils/data/dataloader.py\", line 1320, in _shutdown_workers\n",
      "    Exception ignored in: <function _MultiProcessingDataLoaderIter.__del__ at 0x7f4a67d65af0><function _MultiProcessingDataLoaderIter.__del__ at 0x7f4a67d65af0>\n",
      "\n",
      "\n",
      "  File \"/home/jared/anaconda3/envs/MMCD/lib/python3.8/site-packages/torch/utils/data/dataloader.py\", line 1320, in _shutdown_workers\n",
      "Traceback (most recent call last):\n",
      "Traceback (most recent call last):\n",
      "    if w.is_alive():if w.is_alive():\n",
      "  File \"/home/jared/anaconda3/envs/MMCD/lib/python3.8/multiprocessing/process.py\", line 160, in is_alive\n",
      "    \n",
      "  File \"/home/jared/anaconda3/envs/MMCD/lib/python3.8/multiprocessing/process.py\", line 160, in is_alive\n",
      "    assert self._parent_pid == os.getpid(), 'can only test a child process'assert self._parent_pid == os.getpid(), 'can only test a child process'\n",
      "  File \"/home/jared/anaconda3/envs/MMCD/lib/python3.8/site-packages/torch/utils/data/dataloader.py\", line 1328, in __del__\n",
      "\n",
      "AssertionError: can only test a child process      File \"/home/jared/anaconda3/envs/MMCD/lib/python3.8/site-packages/torch/utils/data/dataloader.py\", line 1328, in __del__\n",
      "self._shutdown_workers()AssertionError\n",
      ":   File \"/home/jared/anaconda3/envs/MMCD/lib/python3.8/site-packages/torch/utils/data/dataloader.py\", line 1320, in _shutdown_workers\n",
      "can only test a child process\n",
      "    if w.is_alive():Exception ignored in:     \n",
      "self._shutdown_workers()<function _MultiProcessingDataLoaderIter.__del__ at 0x7f4a67d65af0>\n",
      "Traceback (most recent call last):\n",
      "  File \"/home/jared/anaconda3/envs/MMCD/lib/python3.8/site-packages/torch/utils/data/dataloader.py\", line 1328, in __del__\n",
      "    self._shutdown_workers()\n",
      "  File \"/home/jared/anaconda3/envs/MMCD/lib/python3.8/site-packages/torch/utils/data/dataloader.py\", line 1320, in _shutdown_workers\n",
      "    Exception ignored in: <function _MultiProcessingDataLoaderIter.__del__ at 0x7f4a67d65af0>\n",
      "Traceback (most recent call last):\n",
      "  File \"/home/jared/anaconda3/envs/MMCD/lib/python3.8/site-packages/torch/utils/data/dataloader.py\", line 1328, in __del__\n",
      "    self._shutdown_workers()\n",
      "  File \"/home/jared/anaconda3/envs/MMCD/lib/python3.8/site-packages/torch/utils/data/dataloader.py\", line 1320, in _shutdown_workers\n",
      "\n",
      "\n",
      "    if w.is_alive():if w.is_alive():\n",
      "  File \"/home/jared/anaconda3/envs/MMCD/lib/python3.8/multiprocessing/process.py\", line 160, in is_alive\n",
      "  File \"/home/jared/anaconda3/envs/MMCD/lib/python3.8/multiprocessing/process.py\", line 160, in is_alive\n",
      "        assert self._parent_pid == os.getpid(), 'can only test a child process'\n",
      "\n",
      "  File \"/home/jared/anaconda3/envs/MMCD/lib/python3.8/site-packages/torch/utils/data/dataloader.py\", line 1320, in _shutdown_workers\n",
      "      File \"/home/jared/anaconda3/envs/MMCD/lib/python3.8/multiprocessing/process.py\", line 160, in is_alive\n",
      "    if w.is_alive():assert self._parent_pid == os.getpid(), 'can only test a child process'\n",
      "  File \"/home/jared/anaconda3/envs/MMCD/lib/python3.8/multiprocessing/process.py\", line 160, in is_alive\n",
      "\n",
      "    AssertionError: assert self._parent_pid == os.getpid(), 'can only test a child process'\n",
      "can only test a child processAssertionError\n",
      ": can only test a child processassert self._parent_pid == os.getpid(), 'can only test a child process'\n",
      "\n",
      "AssertionErrorException ignored in: AssertionError<function _MultiProcessingDataLoaderIter.__del__ at 0x7f4a67d65af0>\n",
      ": can only test a child processTraceback (most recent call last):\n",
      "  File \"/home/jared/anaconda3/envs/MMCD/lib/python3.8/site-packages/torch/utils/data/dataloader.py\", line 1328, in __del__\n",
      "\n",
      "    self._shutdown_workers()\n",
      "  File \"/home/jared/anaconda3/envs/MMCD/lib/python3.8/site-packages/torch/utils/data/dataloader.py\", line 1320, in _shutdown_workers\n",
      "    if w.is_alive():\n",
      "  File \"/home/jared/anaconda3/envs/MMCD/lib/python3.8/multiprocessing/process.py\", line 160, in is_alive\n",
      "    assert self._parent_pid == os.getpid(), 'can only test a child process'Exception ignored in: : \n",
      "can only test a child processAssertionError: <function _MultiProcessingDataLoaderIter.__del__ at 0x7f4a67d65af0>\n",
      "can only test a child process\n",
      "Traceback (most recent call last):\n",
      "  File \"/home/jared/anaconda3/envs/MMCD/lib/python3.8/site-packages/torch/utils/data/dataloader.py\", line 1328, in __del__\n",
      "\n",
      "    self._shutdown_workers()\n",
      "  File \"/home/jared/anaconda3/envs/MMCD/lib/python3.8/site-packages/torch/utils/data/dataloader.py\", line 1320, in _shutdown_workers\n",
      "    if w.is_alive():\n",
      "  File \"/home/jared/anaconda3/envs/MMCD/lib/python3.8/multiprocessing/process.py\", line 160, in is_alive\n",
      "    assert self._parent_pid == os.getpid(), 'can only test a child process'\n",
      "AssertionError: can only test a child process\n"
     ]
    }
   ],
   "source": [
    "sample_loader = DataLoader(dataset_train,\n",
    "                          num_workers = 4,\n",
    "                          batch_size = 5000, #256 is the default batch size\n",
    "                          shuffle = True)\n",
    "\n",
    "for batch_idx, (data, _) in enumerate(sample_loader):\n",
    "    data = flatten_data(data)\n",
    "    np_data = np.array(data)\n",
    "    break"
   ]
  },
  {
   "cell_type": "code",
   "execution_count": 38,
   "metadata": {},
   "outputs": [],
   "source": [
    "categorical, samples = model.sample(5000)"
   ]
  },
  {
   "cell_type": "code",
   "execution_count": 48,
   "metadata": {},
   "outputs": [],
   "source": [
    "samples = index_to_number(samples)"
   ]
  },
  {
   "cell_type": "code",
   "execution_count": 49,
   "metadata": {},
   "outputs": [],
   "source": [
    "np_samples = np.array(samples.cpu().detach())"
   ]
  },
  {
   "cell_type": "markdown",
   "metadata": {},
   "source": [
    "### Dihedrals"
   ]
  },
  {
   "cell_type": "code",
   "execution_count": 51,
   "metadata": {},
   "outputs": [
    {
     "data": {
      "image/png": "[encoded data removed]",
      "text/plain": [
       "<Figure size 432x288 with 1 Axes>"
      ]
     },
     "metadata": {
      "needs_background": "light"
     },
     "output_type": "display_data"
    },
    {
     "data": {
      "image/png": "[encoded data removed]",
      "text/plain": [
       "<Figure size 432x288 with 1 Axes>"
      ]
     },
     "metadata": {
      "needs_background": "light"
     },
     "output_type": "display_data"
    }
   ],
   "source": [
    "for index in range(0, 2, 1):\n",
    "    plt.hist(np_data[:, index+41], label = \"$p_A(x)$\",bins = 100, alpha = 0.5)\n",
    "    plt.hist(np_samples[:, index], bins = 100, alpha=0.5)\n",
    "    plt.show()"
   ]
  }
 ],
 "metadata": {
  "kernelspec": {
   "display_name": "Python 3.8.10 ('MMCD')",
   "language": "python",
   "name": "python3"
  },
  "language_info": {
   "codemirror_mode": {
    "name": "ipython",
    "version": 3
   },
   "file_extension": ".py",
   "mimetype": "text/x-python",
   "name": "python",
   "nbconvert_exporter": "python",
   "pygments_lexer": "ipython3",
   "version": "3.8.10"
  },
  "orig_nbformat": 4,
  "vscode": {
   "interpreter": {
    "hash": "6bdb4c9c3f61b306428a8735aa29fdb3d47c708c66b6a0572dccc6544bde0e67"
   }
  }
 },
 "nbformat": 4,
 "nbformat_minor": 2
}
