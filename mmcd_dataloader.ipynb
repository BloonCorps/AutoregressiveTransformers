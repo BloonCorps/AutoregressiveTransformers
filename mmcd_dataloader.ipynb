{
 "cells": [
  {
   "cell_type": "markdown",
   "metadata": {},
   "source": [
    "### MMCD"
   ]
  },
  {
   "cell_type": "code",
   "execution_count": 6,
   "metadata": {},
   "outputs": [
    {
     "name": "stderr",
     "output_type": "stream",
     "text": [
      "Exception ignored in: <function _MultiProcessingDataLoaderIter.__del__ at 0x7ff55ac7a430>\n",
      "Traceback (most recent call last):\n",
      "  File \"/home/jared/anaconda3/envs/MMCD/lib/python3.8/site-packages/torch/utils/data/dataloader.py\", line 1328, in __del__\n",
      "    self._shutdown_workers()\n",
      "  File \"/home/jared/anaconda3/envs/MMCD/lib/python3.8/site-packages/torch/utils/data/dataloader.py\", line 1320, in _shutdown_workers\n",
      "    if w.is_alive():\n",
      "  File \"/home/jared/anaconda3/envs/MMCD/lib/python3.8/multiprocessing/process.py\", line 160, in is_alive\n",
      "    assert self._parent_pid == os.getpid(), 'can only test a child process'\n",
      "AssertionError: can only test a child process\n",
      "Exception ignored in: <function _MultiProcessingDataLoaderIter.__del__ at 0x7ff55ac7a430>\n",
      "Traceback (most recent call last):\n",
      "  File \"/home/jared/anaconda3/envs/MMCD/lib/python3.8/site-packages/torch/utils/data/dataloader.py\", line 1328, in __del__\n",
      "    self._shutdown_workers()\n",
      "  File \"/home/jared/anaconda3/envs/MMCD/lib/python3.8/site-packages/torch/utils/data/dataloader.py\", line 1320, in _shutdown_workers\n",
      "    if w.is_alive():\n",
      "  File \"/home/jared/anaconda3/envs/MMCD/lib/python3.8/multiprocessing/process.py\", line 160, in is_alive\n",
      "    assert self._parent_pid == os.getpid(), 'can only test a child process'\n",
      "AssertionError: can only test a child process\n"
     ]
    }
   ],
   "source": [
    "## load required modules\n",
    "from torch.utils.data import DataLoader\n",
    "import sys\n",
    "import os\n",
    "\n",
    "## load MMCDataset class\n",
    "#MMCD_path = \"/path/to/MMCD\"\n",
    "MMCD_path = \"./\"\n",
    "sys.path.append(MMCD_path)\n",
    "from mmcd import MMCDataset\n",
    "\n",
    "name = 'dialanine'\n",
    "data_path = os.path.join(MMCD_path, \"data\")\n",
    "\n",
    "## dataset for training\n",
    "dataset_train = MMCDataset(root = data_path,\n",
    "                           molecule_name = name,\n",
    "                           train = True,\n",
    "                           coordinate_type = 'internal')\n",
    "\n",
    "dataloader_train = DataLoader(dataset_train,\n",
    "                              num_workers = 1,\n",
    "                              batch_size = 256,\n",
    "                              shuffle = True)\n",
    "\n",
    "## loop over dataloader_train\n",
    "for i, data in enumerate(dataloader_train, 0):\n",
    "    break\n",
    "    ic, logabsdet = data\n",
    "\n",
    "## dataset for testing\n",
    "dataset_test = MMCDataset(root = data_path,\n",
    "                          molecule_name = name,\n",
    "                          train = False,\n",
    "                          coordinate_type = 'internal')\n",
    "\n",
    "dataloader_test = DataLoader(dataset_test,\n",
    "                             num_workers = 1,\n",
    "                             batch_size = 256,\n",
    ")\n",
    "\n",
    "## loop over dataloader_test\n",
    "for i, data in enumerate(dataloader_test, 0):\n",
    "   ic, logabsdet = data\n",
    "   break"
   ]
  }
 ],
 "metadata": {
  "kernelspec": {
   "display_name": "Python 3.8.10 ('MMCD')",
   "language": "python",
   "name": "python3"
  },
  "language_info": {
   "codemirror_mode": {
    "name": "ipython",
    "version": 3
   },
   "file_extension": ".py",
   "mimetype": "text/x-python",
   "name": "python",
   "nbconvert_exporter": "python",
   "pygments_lexer": "ipython3",
   "version": "3.8.10"
  },
  "orig_nbformat": 4,
  "vscode": {
   "interpreter": {
    "hash": "6bdb4c9c3f61b306428a8735aa29fdb3d47c708c66b6a0572dccc6544bde0e67"
   }
  }
 },
 "nbformat": 4,
 "nbformat_minor": 2
}
