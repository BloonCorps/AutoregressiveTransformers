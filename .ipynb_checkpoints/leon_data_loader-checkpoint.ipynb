{
 "cells": [
  {
   "cell_type": "markdown",
   "metadata": {},
   "source": [
    "### Load Data\n",
    "Load in data from data folder and spit it out in data loader object."
   ]
  },
  {
   "cell_type": "code",
   "execution_count": 1,
   "metadata": {},
   "outputs": [
    {
     "name": "stderr",
     "output_type": "stream",
     "text": [
      "/home/gridsan/jzheng/.conda/envs/UROP/lib/python3.10/site-packages/tqdm/auto.py:22: TqdmWarning: IProgress not found. Please update jupyter and ipywidgets. See https://ipywidgets.readthedocs.io/en/stable/user_install.html\n",
      "  from .autonotebook import tqdm as notebook_tqdm\n"
     ]
    },
    {
     "name": "stdout",
     "output_type": "stream",
     "text": [
      "/home/gridsan/jzheng/MIT/AutoregressiveTransformers/data\n"
     ]
    },
    {
     "ename": "AssertionError",
     "evalue": "No files found in /home/gridsan/jzheng/MIT/AutoregressiveTransformers/data/cath/dompdb",
     "output_type": "error",
     "traceback": [
      "\u001b[0;31m---------------------------------------------------------------------------\u001b[0m",
      "\u001b[0;31mAssertionError\u001b[0m                            Traceback (most recent call last)",
      "Input \u001b[0;32mIn [1]\u001b[0m, in \u001b[0;36m<cell line: 12>\u001b[0;34m()\u001b[0m\n\u001b[1;32m      8\u001b[0m \u001b[38;5;28;01mimport\u001b[39;00m \u001b[38;5;21;01mnumpy\u001b[39;00m \u001b[38;5;28;01mas\u001b[39;00m \u001b[38;5;21;01mnp\u001b[39;00m\n\u001b[1;32m     10\u001b[0m \u001b[38;5;66;03m# instance variables 'trim_strategy', 'pad', 'min_length', 'pdbs_src', 'structures', 'cache_dir', 'rng', 'means', 'all_lengths', '_length_rng', 'feature_idx'\u001b[39;00m\n\u001b[0;32m---> 12\u001b[0m clean_dset \u001b[38;5;241m=\u001b[39m \u001b[43mdsets\u001b[49m\u001b[38;5;241;43m.\u001b[39;49m\u001b[43mCathCanonicalAnglesOnlyDataset\u001b[49m\u001b[43m(\u001b[49m\u001b[43mpad\u001b[49m\u001b[38;5;241;43m=\u001b[39;49m\u001b[38;5;241;43m128\u001b[39;49m\u001b[43m,\u001b[49m\u001b[43m \u001b[49m\u001b[43mtrim_strategy\u001b[49m\u001b[38;5;241;43m=\u001b[39;49m\u001b[38;5;124;43m'\u001b[39;49m\u001b[38;5;124;43mrandomcrop\u001b[39;49m\u001b[38;5;124;43m'\u001b[39;49m\u001b[43m)\u001b[49m\n\u001b[1;32m     14\u001b[0m \u001b[38;5;28mprint\u001b[39m(\u001b[38;5;124m\"\u001b[39m\u001b[38;5;124minstance variables in clean_dset\u001b[39m\u001b[38;5;124m\"\u001b[39m, clean_dset\u001b[38;5;241m.\u001b[39m\u001b[38;5;18m__dict__\u001b[39m\u001b[38;5;241m.\u001b[39mkeys())\n\u001b[1;32m     15\u001b[0m \u001b[38;5;28mprint\u001b[39m(\u001b[38;5;124m\"\u001b[39m\u001b[38;5;124mall lengths\u001b[39m\u001b[38;5;124m\"\u001b[39m, clean_dset\u001b[38;5;241m.\u001b[39mall_lengths)\n",
      "File \u001b[0;32m~/MIT/AutoregressiveTransformers/foldingdiff/datasets.py:501\u001b[0m, in \u001b[0;36mCathCanonicalAnglesOnlyDataset.__init__\u001b[0;34m(self, *args, **kwargs)\u001b[0m\n\u001b[1;32m    500\u001b[0m \u001b[38;5;28;01mdef\u001b[39;00m \u001b[38;5;21m__init__\u001b[39m(\u001b[38;5;28mself\u001b[39m, \u001b[38;5;241m*\u001b[39margs, \u001b[38;5;241m*\u001b[39m\u001b[38;5;241m*\u001b[39mkwargs) \u001b[38;5;241m-\u001b[39m\u001b[38;5;241m>\u001b[39m \u001b[38;5;28;01mNone\u001b[39;00m:\n\u001b[0;32m--> 501\u001b[0m     \u001b[38;5;28;43msuper\u001b[39;49m\u001b[43m(\u001b[49m\u001b[43m)\u001b[49m\u001b[38;5;241;43m.\u001b[39;49m\u001b[38;5;21;43m__init__\u001b[39;49m\u001b[43m(\u001b[49m\u001b[38;5;241;43m*\u001b[39;49m\u001b[43margs\u001b[49m\u001b[43m,\u001b[49m\u001b[43m \u001b[49m\u001b[38;5;241;43m*\u001b[39;49m\u001b[38;5;241;43m*\u001b[39;49m\u001b[43mkwargs\u001b[49m\u001b[43m)\u001b[49m\n\u001b[1;32m    502\u001b[0m     \u001b[38;5;66;03m# Trim out the distance in all the feature_names and feature_is_angular\u001b[39;00m\n\u001b[1;32m    503\u001b[0m     orig_features \u001b[38;5;241m=\u001b[39m \u001b[38;5;28msuper\u001b[39m()\u001b[38;5;241m.\u001b[39mfeature_names[\u001b[38;5;124m\"\u001b[39m\u001b[38;5;124mangles\u001b[39m\u001b[38;5;124m\"\u001b[39m]\u001b[38;5;241m.\u001b[39mcopy()\n",
      "File \u001b[0;32m~/MIT/AutoregressiveTransformers/foldingdiff/datasets.py:125\u001b[0m, in \u001b[0;36mCathCanonicalAnglesDataset.__init__\u001b[0;34m(self, pdbs, split, pad, min_length, trim_strategy, toy, zero_center, use_cache, cache_dir)\u001b[0m\n\u001b[1;32m    123\u001b[0m \u001b[38;5;66;03m# gather files\u001b[39;00m\n\u001b[1;32m    124\u001b[0m \u001b[38;5;28mself\u001b[39m\u001b[38;5;241m.\u001b[39mpdbs_src \u001b[38;5;241m=\u001b[39m pdbs\n\u001b[0;32m--> 125\u001b[0m fnames \u001b[38;5;241m=\u001b[39m \u001b[38;5;28;43mself\u001b[39;49m\u001b[38;5;241;43m.\u001b[39;49m\u001b[43m__get_pdb_fnames\u001b[49m\u001b[43m(\u001b[49m\u001b[43mpdbs\u001b[49m\u001b[43m)\u001b[49m \u001b[38;5;66;03m#[0:200] get the first 200 pdbs, need because hard to test\u001b[39;00m\n\u001b[1;32m    126\u001b[0m \u001b[38;5;28mself\u001b[39m\u001b[38;5;241m.\u001b[39mfnames \u001b[38;5;241m=\u001b[39m fnames\n\u001b[1;32m    128\u001b[0m \u001b[38;5;66;03m# self.structures should be a list of dicts with keys (angles, coords, fname)\u001b[39;00m\n\u001b[1;32m    129\u001b[0m \u001b[38;5;66;03m# Define as None by default; allow for easy checking later\u001b[39;00m\n",
      "File \u001b[0;32m~/MIT/AutoregressiveTransformers/foldingdiff/datasets.py:249\u001b[0m, in \u001b[0;36mCathCanonicalAnglesDataset.__get_pdb_fnames\u001b[0;34m(self, pdbs)\u001b[0m\n\u001b[1;32m    247\u001b[0m \u001b[38;5;28;01mif\u001b[39;00m pdbs \u001b[38;5;241m==\u001b[39m \u001b[38;5;124m\"\u001b[39m\u001b[38;5;124mcath\u001b[39m\u001b[38;5;124m\"\u001b[39m:\n\u001b[1;32m    248\u001b[0m     fnames \u001b[38;5;241m=\u001b[39m glob\u001b[38;5;241m.\u001b[39mglob(os\u001b[38;5;241m.\u001b[39mpath\u001b[38;5;241m.\u001b[39mjoin(CATH_DIR, \u001b[38;5;124m\"\u001b[39m\u001b[38;5;124mdompdb\u001b[39m\u001b[38;5;124m\"\u001b[39m, \u001b[38;5;124m\"\u001b[39m\u001b[38;5;124m*\u001b[39m\u001b[38;5;124m\"\u001b[39m))\n\u001b[0;32m--> 249\u001b[0m     \u001b[38;5;28;01massert\u001b[39;00m fnames, \u001b[38;5;124mf\u001b[39m\u001b[38;5;124m\"\u001b[39m\u001b[38;5;124mNo files found in \u001b[39m\u001b[38;5;132;01m{\u001b[39;00mCATH_DIR\u001b[38;5;132;01m}\u001b[39;00m\u001b[38;5;124m/dompdb\u001b[39m\u001b[38;5;124m\"\u001b[39m\n\u001b[1;32m    250\u001b[0m \u001b[38;5;28;01melif\u001b[39;00m pdbs \u001b[38;5;241m==\u001b[39m \u001b[38;5;124m\"\u001b[39m\u001b[38;5;124malphafold\u001b[39m\u001b[38;5;124m\"\u001b[39m:\n\u001b[1;32m    251\u001b[0m     fnames \u001b[38;5;241m=\u001b[39m glob\u001b[38;5;241m.\u001b[39mglob(os\u001b[38;5;241m.\u001b[39mpath\u001b[38;5;241m.\u001b[39mjoin(ALPHAFOLD_DIR, \u001b[38;5;124m\"\u001b[39m\u001b[38;5;124m*.pdb.gz\u001b[39m\u001b[38;5;124m\"\u001b[39m))\n",
      "\u001b[0;31mAssertionError\u001b[0m: No files found in /home/gridsan/jzheng/MIT/AutoregressiveTransformers/data/cath/dompdb"
     ]
    }
   ],
   "source": [
    "import os\n",
    "import torch\n",
    "os.environ[\"KMP_DUPLICATE_LIB_OK\"]=\"TRUE\"\n",
    "\n",
    "from torch.utils.data.dataloader import DataLoader\n",
    "from foldingdiff import modelling\n",
    "from foldingdiff import datasets as dsets\n",
    "import numpy as np\n",
    "\n",
    "# instance variables 'trim_strategy', 'pad', 'min_length', 'pdbs_src', 'structures', 'cache_dir', 'rng', 'means', 'all_lengths', '_length_rng', 'feature_idx'\n",
    "\n",
    "clean_dset = dsets.CathCanonicalAnglesOnlyDataset(pad=128, trim_strategy='randomcrop')\n",
    "\n",
    "print(\"instance variables in clean_dset\", clean_dset.__dict__.keys())\n",
    "print(\"all lengths\", clean_dset.all_lengths)\n",
    "\n",
    "max_length = 0 #need to find maximum length for padding purposes\n",
    "for length in clean_dset.all_lengths:\n",
    "    if length > max_length:\n",
    "        max_length = length \n",
    "\n",
    "dset_angles = [] #list of matrices, each matrix represents one protein\n",
    "dset_fnames = [] #list of file names, aligned to dset_angles\n",
    "\n",
    "for i in range(len(clean_dset.structures)):\n",
    "    structure = clean_dset.structures[i]\n",
    "    structure_np = structure[\"angles\"].to_numpy()\n",
    "    \n",
    "    rows = structure_np.shape[0]\n",
    "    rows_to_add = max_length - rows\n",
    "    structure_np_padded = np.pad(structure_np, pad_width=((0,rows_to_add), (0,0)))\n",
    "\n",
    "    # we need to pad this to have the shape (max_length, 9)\n",
    "    dset_angles.append(structure_np_padded)\n",
    "    dset_fnames.append(structure[\"fname\"])\n",
    "\n",
    "dl = DataLoader(dset_angles, batch_size=32, shuffle=False)\n",
    "\n",
    "for (batch_idx, data) in enumerate(dl):\n",
    "    print(data.size())\n"
   ]
  },
  {
   "cell_type": "code",
   "execution_count": null,
   "metadata": {},
   "outputs": [],
   "source": []
  }
 ],
 "metadata": {
  "kernelspec": {
   "display_name": "Python [conda env:.conda-UROP]",
   "language": "python",
   "name": "conda-env-.conda-UROP-py"
  },
  "language_info": {
   "codemirror_mode": {
    "name": "ipython",
    "version": 3
   },
   "file_extension": ".py",
   "mimetype": "text/x-python",
   "name": "python",
   "nbconvert_exporter": "python",
   "pygments_lexer": "ipython3",
   "version": "3.10.5"
  },
  "latex_envs": {
   "LaTeX_envs_menu_present": true,
   "autoclose": false,
   "autocomplete": true,
   "bibliofile": "biblio.bib",
   "cite_by": "apalike",
   "current_citInitial": 1,
   "eqLabelWithNumbers": true,
   "eqNumInitial": 1,
   "hotkeys": {
    "equation": "Ctrl-E",
    "itemize": "Ctrl-I"
   },
   "labels_anchors": false,
   "latex_user_defs": false,
   "report_style_numbering": false,
   "user_envs_cfg": false
  },
  "toc": {
   "base_numbering": 1,
   "nav_menu": {},
   "number_sections": true,
   "sideBar": true,
   "skip_h1_title": false,
   "title_cell": "Table of Contents",
   "title_sidebar": "Contents",
   "toc_cell": false,
   "toc_position": {},
   "toc_section_display": true,
   "toc_window_display": false
  },
  "vscode": {
   "interpreter": {
    "hash": "8ce173811288a36eef06e3e790c8efd2ba1395f6591918ab337c26e9eb729f95"
   }
  }
 },
 "nbformat": 4,
 "nbformat_minor": 2
}
