{
 "cells": [
  {
   "cell_type": "markdown",
   "metadata": {},
   "source": [
    "### Autoregressive RNN With Softmax on Alanine Dipeptide"
   ]
  },
  {
   "cell_type": "code",
   "execution_count": 1,
   "metadata": {},
   "outputs": [],
   "source": [
    "import numpy as np \n",
    "import pandas as pd \n",
    "import matplotlib.pyplot as plt\n",
    "import os\n",
    "\n",
    "import torch\n",
    "import torch.nn as nn\n",
    "import torch.nn.functional as F\n",
    "import torchvision\n",
    "import torchvision.transforms as transforms\n",
    "import torch.distributions as dist\n",
    "import torch.optim as optim\n",
    "\n",
    "from torch.utils.data import DataLoader\n",
    "import sys\n",
    "import os"
   ]
  },
  {
   "cell_type": "code",
   "execution_count": 3,
   "metadata": {},
   "outputs": [],
   "source": [
    "## load required modules\n",
    "## load MMCDataset class\n",
    "## MMCD_path = \"/path/to/MMCD\"\n",
    "MMCD_path = \"./\"\n",
    "sys.path.append(MMCD_path)\n",
    "from mmcd import MMCDataset\n",
    "\n",
    "name = 'dialanine'\n",
    "data_path = os.path.join(MMCD_path, \"data\")\n",
    "\n",
    "dataset_train = MMCDataset(root = data_path,\n",
    "                           molecule_name = name,\n",
    "                           train = True,\n",
    "                           coordinate_type = 'internal',\n",
    "                           lazy_load = False)\n",
    "\n",
    "train_loader = DataLoader(dataset_train,\n",
    "                          num_workers = 1,\n",
    "                          batch_size = 256, #256 is the default batch size\n",
    "                          shuffle = True)"
   ]
  },
  {
   "cell_type": "code",
   "execution_count": 6,
   "metadata": {},
   "outputs": [],
   "source": [
    "def flatten_data(data):\n",
    "    \"\"\"\n",
    "    Input: data is a single dictionary item. In this case, for dialanine, it is a dictionary item \n",
    "    with six keys, each referencing a torch.tensor of size [256, 256, 256, (256, 19),(256, 19), (256, 19)]\n",
    "    respectively. The batch size is 256, so the batch data is size [256, 256, 256, (256, 19), (256, 19), \n",
    "    (256, 19)]. Each dialiene molecule is  size [1, 1, 1, 19, 19, 19].\n",
    "    \n",
    "    Output: the dictionary item flattened into a 1-D tensor. It is a 1-D tensor of size 60\n",
    "    for dialanine. We want a length 256 data object where each item is a 60-length 1-d tensor\n",
    "    The resulting data object has shape: torch.Size of [256, 60].\n",
    "    \"\"\"\n",
    "    result = torch.cat(\n",
    "        [data['reference_particle_2_bond'][:, None],\n",
    "         data['reference_particle_3_bond'][:, None],\n",
    "         data['reference_particle_3_angle'][:, None],\n",
    "         data['bond'], data['angle'], data['dihedral']],\n",
    "        dim = -1)\n",
    "\n",
    "    return result\n",
    "\n",
    "def extract_ramachandran(data):\n",
    "    result = torch.cat(\n",
    "        [data['reference_particle_2_bond'][:, None],\n",
    "         data['reference_particle_3_bond'][:, None],\n",
    "         data['reference_particle_3_angle'][:, None],\n",
    "         data['bond'], data['angle'], data['dihedral']],\n",
    "        dim = -1)\n",
    "\n",
    "    return result[:, [43,45]]\n",
    "\n",
    "def rebuild(flat, data_length = 19):\n",
    "    \"\"\"\n",
    "    Input: flattened tensor of torch.Size [256, 60], rebuild and return\n",
    "    the original molecule, a dictionary item. The inverse of the flatten_data function.\n",
    "    \"\"\"\n",
    "    data_length = 19 #this is particular to dialene\n",
    "    result = {}\n",
    "\n",
    "    result['reference_particle_1_xyz'] = torch.zeros((flat.shape[0], 3))\n",
    "    result['reference_particle_2_bond'] = flat[:, 0]\n",
    "    result['reference_particle_3_bond'] = flat[:, 1]\n",
    "    result['reference_particle_3_angle'] = flat[:, 2]\n",
    "\n",
    "    start = 3\n",
    "    end = start + data_length\n",
    "    result['bond'] = flat[:, start:end]\n",
    "\n",
    "    start = end\n",
    "    end = start + data_length\n",
    "    result['angle'] = flat[:, start:end]\n",
    "\n",
    "    start = end\n",
    "    end = start + data_length\n",
    "    result['dihedral'] = flat[:, start:end]\n",
    "\n",
    "    return result"
   ]
  },
  {
   "cell_type": "code",
   "execution_count": 12,
   "metadata": {},
   "outputs": [],
   "source": [
    "class InternalCoordinateSoftmaxJordanRNNv2(nn.Module):\n",
    "    def __init__(self, batch_size = 256):\n",
    "        super(InternalCoordinateSoftmaxJordanRNNv2, self).__init__()\n",
    "        \n",
    "        self.batch_size = 256\n",
    "        self.hidden_size = 10\n",
    "\n",
    "        #Size = [256, 1, 628]\n",
    "        \n",
    "        #Modules for everything that is not the first input.\n",
    "        self.energy = nn.ModuleList([nn.Linear(10, 6284) for index in range(60)]) #Energy\n",
    "        self.h_linears = nn.ModuleList([nn.Linear(1, 10) for index in range(60)])\n",
    "\n",
    "        self.activation_function = torch.nn.Softmax(dim=1)\n",
    "        self.loss_function = nn.CrossEntropyLoss()\n",
    "\n",
    "    def forward(self, X):  \n",
    "        h = torch.zeros(X.size()[0], self.hidden_size, 1).to(device) #[256, number_of_coordinates, 1]\n",
    "        energy = self.energy[0](h[:, :, 0])\n",
    "        \n",
    "\n",
    "        return h, energy\n",
    "    \n",
    "    def sample(self, num_samples = 256):\n",
    "        h = torch.zeros(num_samples, self.hidden_size, 1).to(device) #[256, number_of_coordinates, 1]\n",
    "        energy = self.energy[0](h[:, :, 0])\n",
    "        categorical = self.activation_function(energy)\n",
    "\n",
    "        distribution = dist.Categorical(categorical) #like forward with two extra steps\n",
    "        samples = distribution.sample()\n",
    "\n",
    "        return categorical, samples\n",
    "\n",
    "    def loss(self, X, Y, tensor_form = False):\n",
    "        #X is a categorical distribution and Y is the target (one hot encoding).\n",
    "        loss_value = self.loss_function(X, Y)\n",
    "        return loss_value        "
   ]
  },
  {
   "cell_type": "markdown",
   "metadata": {},
   "source": [
    "### Training Loop"
   ]
  },
  {
   "cell_type": "code",
   "execution_count": 14,
   "metadata": {},
   "outputs": [],
   "source": [
    "def number_to_vec(ic, num_decimals = 3):\n",
    "    \"\"\"\n",
    "    [1.80, 1.84, 0.97] -> [180, 184, 097]\n",
    "    \"\"\"\n",
    "    ic = torch.round(1000*ic)\n",
    "    ic = ic/1000\n",
    "\n",
    "    indicies = ic * 10**num_decimals + 3142\n",
    "    indicies = indicies.long()\n",
    "    num_of_classes = 2 * 3.14 * 10**num_decimals\n",
    "    one_hots = F.one_hot(indicies, num_classes = int(num_of_classes))\n",
    "\n",
    "    return one_hots\n",
    "\n",
    "def number_to_vec_class(ic, num_decimals = 3):\n",
    "    \"\"\"\n",
    "    [1.80, 1.84, 0.97] -> [180, 184, 097]\n",
    "    \"\"\"\n",
    "    ic = torch.round(1000*ic)\n",
    "    ic = ic/1000\n",
    "\n",
    "    indicies = ic * 10**num_decimals + 3142\n",
    "    indicies = indicies.long()\n",
    "\n",
    "    return indicies\n",
    "\n",
    "def vec_to_number(one_hots, num_decimals = 2):\n",
    "    labels_again = (torch.argmax(one_hots, dim=2) -314)/100 #replace with dim=2 once u get it going\n",
    "    return labels_again"
   ]
  },
  {
   "cell_type": "code",
   "execution_count": 15,
   "metadata": {},
   "outputs": [
    {
     "name": "stdout",
     "output_type": "stream",
     "text": [
      "Train Epoch: 1 [0/625 (0%)]\tLoss: 0.013989\n",
      "Train Epoch: 1 [100/625 (16%)]\tLoss: 0.013786\n",
      "Train Epoch: 1 [200/625 (32%)]\tLoss: 0.013609\n",
      "Train Epoch: 1 [300/625 (48%)]\tLoss: 0.013468\n",
      "Train Epoch: 1 [400/625 (64%)]\tLoss: 0.013353\n",
      "Train Epoch: 1 [500/625 (80%)]\tLoss: 0.013189\n",
      "Train Epoch: 1 [600/625 (96%)]\tLoss: 0.013096\n",
      "Train Epoch: 2 [0/625 (0%)]\tLoss: 0.013091\n",
      "Train Epoch: 2 [100/625 (16%)]\tLoss: 0.012965\n",
      "Train Epoch: 2 [200/625 (32%)]\tLoss: 0.012869\n",
      "Train Epoch: 2 [300/625 (48%)]\tLoss: 0.012842\n",
      "Train Epoch: 2 [400/625 (64%)]\tLoss: 0.012740\n",
      "Train Epoch: 2 [500/625 (80%)]\tLoss: 0.012694\n",
      "Train Epoch: 2 [600/625 (96%)]\tLoss: 0.012690\n",
      "Train Epoch: 3 [0/625 (0%)]\tLoss: 0.012648\n",
      "Train Epoch: 3 [100/625 (16%)]\tLoss: 0.012634\n",
      "Train Epoch: 3 [200/625 (32%)]\tLoss: 0.012581\n",
      "Train Epoch: 3 [300/625 (48%)]\tLoss: 0.012534\n",
      "Train Epoch: 3 [400/625 (64%)]\tLoss: 0.012557\n",
      "Train Epoch: 3 [500/625 (80%)]\tLoss: 0.012514\n",
      "Train Epoch: 3 [600/625 (96%)]\tLoss: 0.012493\n",
      "Train Epoch: 4 [0/625 (0%)]\tLoss: 0.012506\n",
      "Train Epoch: 4 [100/625 (16%)]\tLoss: 0.012505\n",
      "Train Epoch: 4 [200/625 (32%)]\tLoss: 0.012528\n",
      "Train Epoch: 4 [300/625 (48%)]\tLoss: 0.012470\n",
      "Train Epoch: 4 [400/625 (64%)]\tLoss: 0.012467\n",
      "Train Epoch: 4 [500/625 (80%)]\tLoss: 0.012390\n",
      "Train Epoch: 4 [600/625 (96%)]\tLoss: 0.012400\n",
      "Train Epoch: 5 [0/625 (0%)]\tLoss: 0.012440\n",
      "Train Epoch: 5 [100/625 (16%)]\tLoss: 0.012372\n",
      "Train Epoch: 5 [200/625 (32%)]\tLoss: 0.012372\n",
      "Train Epoch: 5 [300/625 (48%)]\tLoss: 0.012358\n",
      "Train Epoch: 5 [400/625 (64%)]\tLoss: 0.012384\n",
      "Train Epoch: 5 [500/625 (80%)]\tLoss: 0.012421\n",
      "Train Epoch: 5 [600/625 (96%)]\tLoss: 0.012483\n",
      "Train Epoch: 6 [0/625 (0%)]\tLoss: 0.012378\n",
      "Train Epoch: 6 [100/625 (16%)]\tLoss: 0.012394\n",
      "Train Epoch: 6 [200/625 (32%)]\tLoss: 0.012350\n",
      "Train Epoch: 6 [300/625 (48%)]\tLoss: 0.012350\n",
      "Train Epoch: 6 [400/625 (64%)]\tLoss: 0.012387\n",
      "Train Epoch: 6 [500/625 (80%)]\tLoss: 0.012378\n",
      "Train Epoch: 6 [600/625 (96%)]\tLoss: 0.012356\n",
      "Train Epoch: 7 [0/625 (0%)]\tLoss: 0.012359\n",
      "Train Epoch: 7 [100/625 (16%)]\tLoss: 0.012337\n",
      "Train Epoch: 7 [200/625 (32%)]\tLoss: 0.012358\n",
      "Train Epoch: 7 [300/625 (48%)]\tLoss: 0.012349\n",
      "Train Epoch: 7 [400/625 (64%)]\tLoss: 0.012337\n",
      "Train Epoch: 7 [500/625 (80%)]\tLoss: 0.012338\n",
      "Train Epoch: 7 [600/625 (96%)]\tLoss: 0.012370\n",
      "Train Epoch: 8 [0/625 (0%)]\tLoss: 0.012331\n",
      "Train Epoch: 8 [100/625 (16%)]\tLoss: 0.012395\n",
      "Train Epoch: 8 [200/625 (32%)]\tLoss: 0.012379\n",
      "Train Epoch: 8 [300/625 (48%)]\tLoss: 0.012387\n",
      "Train Epoch: 8 [400/625 (64%)]\tLoss: 0.012360\n",
      "Train Epoch: 8 [500/625 (80%)]\tLoss: 0.012310\n",
      "Train Epoch: 8 [600/625 (96%)]\tLoss: 0.012244\n",
      "Train Epoch: 9 [0/625 (0%)]\tLoss: 0.012345\n",
      "Train Epoch: 9 [100/625 (16%)]\tLoss: 0.012296\n",
      "Train Epoch: 9 [200/625 (32%)]\tLoss: 0.012296\n",
      "Train Epoch: 9 [300/625 (48%)]\tLoss: 0.012260\n",
      "Train Epoch: 9 [400/625 (64%)]\tLoss: 0.012437\n",
      "Train Epoch: 9 [500/625 (80%)]\tLoss: 0.012293\n",
      "Train Epoch: 9 [600/625 (96%)]\tLoss: 0.012360\n",
      "Train Epoch: 10 [0/625 (0%)]\tLoss: 0.012391\n",
      "Train Epoch: 10 [100/625 (16%)]\tLoss: 0.012369\n",
      "Train Epoch: 10 [200/625 (32%)]\tLoss: 0.012425\n",
      "Train Epoch: 10 [300/625 (48%)]\tLoss: 0.012297\n",
      "Train Epoch: 10 [400/625 (64%)]\tLoss: 0.012250\n",
      "Train Epoch: 10 [500/625 (80%)]\tLoss: 0.012479\n",
      "Train Epoch: 10 [600/625 (96%)]\tLoss: 0.012300\n"
     ]
    }
   ],
   "source": [
    "device = torch.device(\"cuda\")\n",
    "model = InternalCoordinateSoftmaxJordanRNNv2().to(device)\n",
    "optimizer = optim.Adam(model.parameters(), lr=2e-3)  #lr is step size, arbitrarily picked.\n",
    "\n",
    "def train(epoch):\n",
    "    model.train()\n",
    "    train_loss = 0\n",
    "\n",
    "    for batch_idx, (data, _) in enumerate(train_loader):\n",
    "        #Flatten the data into a tensor of size (256, 60) tensor before putting it into the GPU\n",
    "        data = flatten_data(data)\n",
    "\n",
    "        data = number_to_vec_class(data[:, 43:44])\n",
    "\n",
    "        true_target = data.squeeze()\n",
    "        true_target = true_target.to(device)\n",
    "\n",
    "        optimizer.zero_grad()\n",
    "\n",
    "        h, X_pred = model(true_target) #h is the hidden layers, but it is useless\n",
    "\n",
    "        loss = model.loss(X = X_pred, Y = true_target)\n",
    "        \n",
    "        loss.backward()\n",
    "\n",
    "        train_loss += loss.item()\n",
    "        optimizer.step()\n",
    "        \n",
    "        if batch_idx % 100 == 0:#args.log_interval == 0: #by default, args.log_interval = 10\n",
    "            print('Train Epoch:', epoch, '[{}/{} ({:.0f}%)]\\tLoss: {:.6f}'.format(\n",
    "\n",
    "                #len(train_loader) should be 625\n",
    "                batch_idx, #index of the batch we are on \n",
    "                len(train_loader), #how many batches are in the data loader\n",
    "                100. * batch_idx / len(train_loader), #progress percentage\n",
    "                loss.item() / len(train_loader))  #hardcoded batch size\n",
    "                )\n",
    "\n",
    "for epoch in range(1, 11):\n",
    "    train(epoch)\n",
    "\n",
    "    '''\n",
    "    sample =  model.sample(1000)\n",
    "    sample = rebuild(sample)\n",
    "    potential_energy_q_theta = dataset_train.compute_potential_energy_for_ic(sample)\n",
    "    print(np.sum(potential_energy_q_theta)/1000)\n",
    "    '''"
   ]
  },
  {
   "cell_type": "markdown",
   "metadata": {},
   "source": [
    "### Sample From Model to View Distribtuions"
   ]
  },
  {
   "cell_type": "code",
   "execution_count": 18,
   "metadata": {},
   "outputs": [
    {
     "data": {
      "image/png": "[encoded data removed]",
      "text/plain": [
       "<Figure size 432x288 with 1 Axes>"
      ]
     },
     "metadata": {
      "needs_background": "light"
     },
     "output_type": "display_data"
    }
   ],
   "source": [
    "sample_loader = DataLoader(dataset_train,\n",
    "                          num_workers = 4,\n",
    "                          batch_size = 160000, #256 is the default batch size\n",
    "                          shuffle = True)\n",
    "\n",
    "for batch_idx, (data, _) in enumerate(sample_loader):\n",
    "    data = flatten_data(data)\n",
    "    break\n",
    "\n",
    "np_data = np.array(data)\n",
    "np_data_rounded = np.round(np.array(data), decimals=2)\n",
    "\n",
    "categorical, samples = model.sample()\n",
    "\n",
    "#43 and 45\n",
    "line = np.array([(x-3142)/1000 for x in range(0, 6284, 1)])\n",
    "plt.plot(line, categorical[0, :].cpu().detach()*160000, label = \"$q_{\\\\theta}(x)$\")\n",
    "\n",
    "for index in [43]:\n",
    "    plt.hist(np_data[:, index], label = \"$p_A(x)$\", density=False, stacked=False, bins = 6284, alpha = 0.5)\n",
    "    #plt.hist(np_samples[:, index], label = \"Learned\", bins = 200, alpha = 0.5)\n",
    "    categorical, samples = model.sample(256)\n",
    "    #plt.plot(categorical[0, :].cpu().detach())\n",
    "    plt.legend()\n",
    "    plt.title(\"Index = \" + str(index) + \" of Alanine, the $\\psi$ Dihedral Angle, Rounded to 2 Decimals\")\n",
    "    \n",
    "    plt.show()"
   ]
  },
  {
   "cell_type": "code",
   "execution_count": 22,
   "metadata": {},
   "outputs": [
    {
     "data": {
      "image/png": "[encoded data removed]",
      "text/plain": [
       "<Figure size 432x288 with 1 Axes>"
      ]
     },
     "metadata": {
      "needs_background": "light"
     },
     "output_type": "display_data"
    }
   ],
   "source": [
    "np_data = np.array(data)\n",
    "np_data_rounded = np.round(np.array(data), decimals=3)\n",
    "\n",
    "categorical, samples = model.sample()\n",
    "\n",
    "#43 and 45\n",
    "line = np.array([(x-3142)/1000 for x in range(0, 6284, 1)])\n",
    "plt.plot(line, categorical[0, :].cpu().detach()*160000, label = \"$q_{\\\\theta}(x)$\")\n",
    "plt.legend()\n",
    "plt.show()"
   ]
  },
  {
   "cell_type": "code",
   "execution_count": 23,
   "metadata": {},
   "outputs": [
    {
     "data": {
      "image/png": "[encoded data removed]",
      "text/plain": [
       "<Figure size 432x288 with 1 Axes>"
      ]
     },
     "metadata": {
      "needs_background": "light"
     },
     "output_type": "display_data"
    }
   ],
   "source": [
    "plt.hist(np_data[:, index], label = \"$p_A(x)$\", density=False, stacked=False, bins = 6284, alpha = 0.5)\n",
    "#plt.hist(np_samples[:, index], label = \"Learned\", bins = 200, alpha = 0.5)\n",
    "categorical, samples = model.sample(256)\n",
    "#plt.plot(categorical[0, :].cpu().detach())\n",
    "plt.legend()\n",
    "plt.title(\"Index = \" + str(index) + \" of Alanine, the $\\psi$ Dihedral Angle, Rounded to 2 Decimals\")\n",
    "    \n",
    "plt.show()"
   ]
  },
  {
   "cell_type": "code",
   "execution_count": 445,
   "metadata": {},
   "outputs": [
    {
     "name": "stdout",
     "output_type": "stream",
     "text": [
      "(10000, 2)\n"
     ]
    },
    {
     "data": {
      "text/plain": [
       "(array([[0., 0., 0., ..., 0., 0., 0.],\n",
       "        [0., 0., 0., ..., 0., 0., 0.],\n",
       "        [1., 0., 0., ..., 0., 0., 0.],\n",
       "        ...,\n",
       "        [0., 0., 0., ..., 0., 0., 0.],\n",
       "        [0., 0., 0., ..., 0., 0., 0.],\n",
       "        [0., 0., 0., ..., 0., 0., 0.]]),\n",
       " array([-2.74570537e+00, -2.68964879e+00, -2.63359221e+00, -2.57753562e+00,\n",
       "        -2.52147904e+00, -2.46542246e+00, -2.40936588e+00, -2.35330930e+00,\n",
       "        -2.29725272e+00, -2.24119614e+00, -2.18513956e+00, -2.12908298e+00,\n",
       "        -2.07302640e+00, -2.01696982e+00, -1.96091324e+00, -1.90485666e+00,\n",
       "        -1.84880008e+00, -1.79274350e+00, -1.73668692e+00, -1.68063034e+00,\n",
       "        -1.62457376e+00, -1.56851717e+00, -1.51246059e+00, -1.45640401e+00,\n",
       "        -1.40034743e+00, -1.34429085e+00, -1.28823427e+00, -1.23217769e+00,\n",
       "        -1.17612111e+00, -1.12006453e+00, -1.06400795e+00, -1.00795137e+00,\n",
       "        -9.51894789e-01, -8.95838208e-01, -8.39781628e-01, -7.83725047e-01,\n",
       "        -7.27668467e-01, -6.71611886e-01, -6.15555305e-01, -5.59498725e-01,\n",
       "        -5.03442144e-01, -4.47385564e-01, -3.91328983e-01, -3.35272403e-01,\n",
       "        -2.79215822e-01, -2.23159242e-01, -1.67102661e-01, -1.11046081e-01,\n",
       "        -5.49895000e-02,  1.06708050e-03,  5.71236610e-02,  1.13180242e-01,\n",
       "         1.69236822e-01,  2.25293403e-01,  2.81349983e-01,  3.37406564e-01,\n",
       "         3.93463144e-01,  4.49519725e-01,  5.05576305e-01,  5.61632886e-01,\n",
       "         6.17689466e-01,  6.73746047e-01,  7.29802628e-01,  7.85859208e-01,\n",
       "         8.41915789e-01,  8.97972369e-01,  9.54028950e-01,  1.01008553e+00,\n",
       "         1.06614211e+00,  1.12219869e+00,  1.17825527e+00,  1.23431185e+00,\n",
       "         1.29036843e+00,  1.34642501e+00,  1.40248159e+00,  1.45853817e+00,\n",
       "         1.51459476e+00,  1.57065134e+00,  1.62670792e+00,  1.68276450e+00,\n",
       "         1.73882108e+00,  1.79487766e+00,  1.85093424e+00,  1.90699082e+00,\n",
       "         1.96304740e+00,  2.01910398e+00,  2.07516056e+00,  2.13121714e+00,\n",
       "         2.18727372e+00,  2.24333030e+00,  2.29938688e+00,  2.35544346e+00,\n",
       "         2.41150004e+00,  2.46755662e+00,  2.52361320e+00,  2.57966979e+00,\n",
       "         2.63572637e+00,  2.69178295e+00,  2.74783953e+00,  2.80389611e+00,\n",
       "         2.85995269e+00]),\n",
       " array([-3.14102554e+00, -3.07821055e+00, -3.01539556e+00, -2.95258057e+00,\n",
       "        -2.88976558e+00, -2.82695059e+00, -2.76413559e+00, -2.70132060e+00,\n",
       "        -2.63850561e+00, -2.57569062e+00, -2.51287563e+00, -2.45006064e+00,\n",
       "        -2.38724565e+00, -2.32443065e+00, -2.26161566e+00, -2.19880067e+00,\n",
       "        -2.13598568e+00, -2.07317069e+00, -2.01035570e+00, -1.94754071e+00,\n",
       "        -1.88472571e+00, -1.82191072e+00, -1.75909573e+00, -1.69628074e+00,\n",
       "        -1.63346575e+00, -1.57065076e+00, -1.50783576e+00, -1.44502077e+00,\n",
       "        -1.38220578e+00, -1.31939079e+00, -1.25657580e+00, -1.19376081e+00,\n",
       "        -1.13094582e+00, -1.06813082e+00, -1.00531583e+00, -9.42500842e-01,\n",
       "        -8.79685850e-01, -8.16870859e-01, -7.54055867e-01, -6.91240876e-01,\n",
       "        -6.28425884e-01, -5.65610893e-01, -5.02795901e-01, -4.39980910e-01,\n",
       "        -3.77165918e-01, -3.14350927e-01, -2.51535935e-01, -1.88720944e-01,\n",
       "        -1.25905952e-01, -6.30909610e-02, -2.75969505e-04,  6.25390220e-02,\n",
       "         1.25354013e-01,  1.88169005e-01,  2.50983996e-01,  3.13798988e-01,\n",
       "         3.76613979e-01,  4.39428971e-01,  5.02243962e-01,  5.65058954e-01,\n",
       "         6.27873945e-01,  6.90688937e-01,  7.53503928e-01,  8.16318920e-01,\n",
       "         8.79133911e-01,  9.41948903e-01,  1.00476389e+00,  1.06757889e+00,\n",
       "         1.13039388e+00,  1.19320887e+00,  1.25602386e+00,  1.31883885e+00,\n",
       "         1.38165384e+00,  1.44446883e+00,  1.50728383e+00,  1.57009882e+00,\n",
       "         1.63291381e+00,  1.69572880e+00,  1.75854379e+00,  1.82135878e+00,\n",
       "         1.88417377e+00,  1.94698877e+00,  2.00980376e+00,  2.07261875e+00,\n",
       "         2.13543374e+00,  2.19824873e+00,  2.26106372e+00,  2.32387872e+00,\n",
       "         2.38669371e+00,  2.44950870e+00,  2.51232369e+00,  2.57513868e+00,\n",
       "         2.63795367e+00,  2.70076866e+00,  2.76358366e+00,  2.82639865e+00,\n",
       "         2.88921364e+00,  2.95202863e+00,  3.01484362e+00,  3.07765861e+00,\n",
       "         3.14047360e+00]),\n",
       " <matplotlib.collections.QuadMesh at 0x7ff6b803d130>)"
      ]
     },
     "execution_count": 445,
     "metadata": {},
     "output_type": "execute_result"
    },
    {
     "data": {
      "image/png": "[encoded data removed]",
      "text/plain": [
       "<Figure size 432x288 with 1 Axes>"
      ]
     },
     "metadata": {
      "needs_background": "light"
     },
     "output_type": "display_data"
    }
   ],
   "source": [
    "result = np_data[:, [43,45]]\n",
    "print(np.shape(result))\n",
    "plt.hist2d( x = result[:, 0], y = result[:, 1], bins = (100, 100) )"
   ]
  }
 ],
 "metadata": {
  "kernelspec": {
   "display_name": "Python 3.8.10 ('MMCD')",
   "language": "python",
   "name": "python3"
  },
  "language_info": {
   "codemirror_mode": {
    "name": "ipython",
    "version": 3
   },
   "file_extension": ".py",
   "mimetype": "text/x-python",
   "name": "python",
   "nbconvert_exporter": "python",
   "pygments_lexer": "ipython3",
   "version": "3.8.10"
  },
  "orig_nbformat": 4,
  "vscode": {
   "interpreter": {
    "hash": "6bdb4c9c3f61b306428a8735aa29fdb3d47c708c66b6a0572dccc6544bde0e67"
   }
  }
 },
 "nbformat": 4,
 "nbformat_minor": 2
}
