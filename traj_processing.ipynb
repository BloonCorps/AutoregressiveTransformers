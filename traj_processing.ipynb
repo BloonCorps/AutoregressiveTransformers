{
 "cells": [
  {
   "cell_type": "code",
   "execution_count": 1,
   "metadata": {},
   "outputs": [],
   "source": [
    "import mdtraj as md\n",
    "import sys\n",
    "\n",
    "sys.path.append('./data/decaalanine/structure/')\n",
    "sys.path.append('./data/decaalanine/train/')"
   ]
  },
  {
   "cell_type": "code",
   "execution_count": 2,
   "metadata": {},
   "outputs": [],
   "source": [
    "t4_traj_1 = md.load_dcd('./data/t4lysozyme/cong/protein_obc1_100.0ns.dcd', \\\n",
    "                    top='./data/t4lysozyme/structure/t4lysozyme.prmtop')"
   ]
  },
  {
   "cell_type": "code",
   "execution_count": 3,
   "metadata": {},
   "outputs": [],
   "source": [
    "t4_traj_2 = md.load_dcd('./data/t4lysozyme/cong/protein_obc1_500.0ns.dcd', \\\n",
    "                    top='./data/t4lysozyme/structure/t4lysozyme.prmtop')"
   ]
  },
  {
   "cell_type": "code",
   "execution_count": 5,
   "metadata": {},
   "outputs": [],
   "source": [
    "merged = md.join([t4_traj_1, t4_traj_2])"
   ]
  },
  {
   "cell_type": "code",
   "execution_count": 8,
   "metadata": {},
   "outputs": [],
   "source": [
    "for index in range(0, 3, 1):\n",
    "    temp = merged[index*100000: (index+1)*100000]\n",
    "    temp.save(\"./data/t4lysozyme/train/traj_chunk_\" + str(index) + \".dcd\")"
   ]
  },
  {
   "cell_type": "code",
   "execution_count": 10,
   "metadata": {},
   "outputs": [],
   "source": [
    "topology = merged.topology"
   ]
  },
  {
   "cell_type": "code",
   "execution_count": 17,
   "metadata": {},
   "outputs": [
    {
     "name": "stdout",
     "output_type": "stream",
     "text": [
      "[   0    4   17   18   19   21   31   32   33   35   50   51   52   54\n",
      "   70   71   72   74   85   86   87   89  102  103  104  106  121  122\n",
      "  123  125  145  146  147  149  164  165  166  168  176  177  178  180\n",
      "  191  192  193  195  198  199  200  202  217  218  219  221  241  242\n",
      "  243  245  260  261  262  264  282  283  284  286  301  302  303  305\n",
      "  322  323  324  326  344  345  346  348  356  357  358  360  370  371\n",
      "  372  374  385  386  387  389  392  393  394  396  413  414  415  417\n",
      "  434  435  436  438  448  449  450  452  467  468  469  471  474  475\n",
      "  476  478  493  494  495  497  500  501  502  504  517  518  519  521\n",
      "  536  537  538  540  555  556  557  559  569  570  571  573  591  592\n",
      "  593  595  602  603  604  614  616  617  618  620  627  628  629  631\n",
      "  646  647  648  650  660  661  662  664  670  671  672  674  680  681\n",
      "  682  684  702  703  704  706  713  714  715  717  728  729  730  732\n",
      "  747  748  749  751  759  760  761  763  781  782  783  785  791  792\n",
      "  793  795  810  811  812  814  817  818  819  821  841  842  843  845\n",
      "  855  856  857  859  869  870  871  873  883  884  885  887  890  891\n",
      "  892  894  906  907  908  910  925  926  927  929  939  940  941  943\n",
      "  961  962  963  965  973  974  975  977  988  989  990  992  998  999\n",
      " 1000 1002 1013 1014 1015 1017 1035 1036 1037 1039 1054 1055 1056 1058\n",
      " 1074 1075 1076 1078 1088 1089 1090 1092 1105 1106 1107 1109 1117 1118\n",
      " 1119 1121 1133 1134 1135 1137 1145 1146 1147 1149 1155 1156 1157 1159\n",
      " 1165 1166 1167 1169 1181 1182 1183 1185 1205 1206 1207 1209 1212 1213\n",
      " 1214 1216 1231 1232 1233 1235 1250 1251 1252 1254 1274 1275 1276 1278\n",
      " 1288 1289 1290 1292 1298 1299 1300 1302 1320 1321 1322 1324 1339 1340\n",
      " 1341 1343 1361 1362 1363 1373 1375 1376 1377 1379 1391 1392 1393 1395\n",
      " 1412 1413 1414 1416 1424 1425 1426 1428 1435 1436 1437 1439 1454 1455\n",
      " 1456 1458 1466 1467 1468 1470 1476 1477 1478 1480 1492 1493 1494 1496\n",
      " 1516 1517 1518 1520 1540 1541 1542 1544 1550 1551 1552 1554 1560 1561\n",
      " 1562 1564 1570 1571 1572 1574 1589 1590 1591 1593 1603 1604 1605 1607\n",
      " 1620 1621 1622 1624 1636 1637 1638 1640 1656 1657 1658 1660 1673 1674\n",
      " 1675 1677 1690 1691 1692 1694 1697 1698 1699 1701 1712 1713 1714 1716\n",
      " 1726 1727 1728 1730 1733 1734 1735 1737 1749 1750 1751 1753 1759 1760\n",
      " 1761 1763 1766 1767 1768 1770 1786 1787 1788 1790 1800 1801 1802 1804\n",
      " 1814 1815 1816 1818 1825 1826 1827 1829 1844 1845 1846 1848 1868 1869\n",
      " 1870 1872 1885 1886 1887 1889 1904 1905 1906 1908 1921 1922 1923 1925\n",
      " 1938 1939 1940 1942 1960 1961 1962 1964 1984 1985 1986 1988 2008 2009\n",
      " 2010 2012 2020 2021 2022 2024 2035 2036 2037 2039 2045 2046 2047 2049\n",
      " 2055 2056 2057 2059 2071 2072 2073 2075 2085 2086 2087 2089 2104 2105\n",
      " 2106 2108 2114 2115 2116 2118 2136 2137 2138 2140 2147 2148 2149 2151\n",
      " 2171 2172 2173 2175 2195 2196 2197 2199 2216 2217 2218 2220 2230 2231\n",
      " 2232 2234 2247 2248 2249 2251 2261 2262 2263 2273 2275 2276 2277 2279\n",
      " 2289 2290 2291 2293 2313 2314 2315 2317 2323 2324 2325 2327 2345 2346\n",
      " 2347 2349 2369 2370 2371 2373 2385 2386 2387 2389 2404 2405 2406 2408\n",
      " 2418 2419 2420 2422 2432 2433 2434 2436 2452 2453 2454 2456 2476 2477\n",
      " 2478 2480 2490 2491 2492 2494 2497 2498 2499 2501 2511 2512 2513 2515\n",
      " 2535 2536 2537 2539 2547 2548 2549 2551 2557 2558 2559 2561 2578 2579\n",
      " 2580 2582 2600 2601]\n"
     ]
    }
   ],
   "source": [
    "print(merged.topology.select(\"backbone\"))"
   ]
  },
  {
   "cell_type": "code",
   "execution_count": 21,
   "metadata": {},
   "outputs": [
    {
     "ename": "AttributeError",
     "evalue": "'numpy.ndarray' object has no attribute 'xyz'",
     "output_type": "error",
     "traceback": [
      "\u001b[0;31m---------------------------------------------------------------------------\u001b[0m",
      "\u001b[0;31mAttributeError\u001b[0m                            Traceback (most recent call last)",
      "Input \u001b[0;32mIn [21]\u001b[0m, in \u001b[0;36m<cell line: 1>\u001b[0;34m()\u001b[0m\n\u001b[0;32m----> 1\u001b[0m \u001b[43mmerged\u001b[49m\u001b[38;5;241;43m.\u001b[39;49m\u001b[43mtop\u001b[49m\u001b[38;5;241;43m.\u001b[39;49m\u001b[43mselect\u001b[49m\u001b[43m(\u001b[49m\u001b[38;5;124;43m'\u001b[39;49m\u001b[38;5;124;43msidechain\u001b[39;49m\u001b[38;5;124;43m'\u001b[39;49m\u001b[43m)\u001b[49m\u001b[38;5;241;43m.\u001b[39;49m\u001b[43mxyz\u001b[49m\n",
      "\u001b[0;31mAttributeError\u001b[0m: 'numpy.ndarray' object has no attribute 'xyz'"
     ]
    }
   ],
   "source": [
    "merged.top.select('sidechain').xyz"
   ]
  },
  {
   "cell_type": "code",
   "execution_count": 33,
   "metadata": {},
   "outputs": [
    {
     "ename": "ValueError",
     "evalue": "The truth value of an array with more than one element is ambiguous. Use a.any() or a.all()",
     "output_type": "error",
     "traceback": [
      "\u001b[0;31m---------------------------------------------------------------------------\u001b[0m",
      "\u001b[0;31mValueError\u001b[0m                                Traceback (most recent call last)",
      "Input \u001b[0;32mIn [33]\u001b[0m, in \u001b[0;36m<cell line: 1>\u001b[0;34m()\u001b[0m\n\u001b[0;32m----> 1\u001b[0m \u001b[38;5;28mprint\u001b[39m(\u001b[43mmerged\u001b[49m\u001b[43m[\u001b[49m\u001b[38;5;241;43m0\u001b[39;49m\u001b[43m]\u001b[49m\u001b[38;5;241;43m.\u001b[39;49m\u001b[43matom_slice\u001b[49m\u001b[43m(\u001b[49m\u001b[43m[\u001b[49m\u001b[43mmerged\u001b[49m\u001b[38;5;241;43m.\u001b[39;49m\u001b[43mtop\u001b[49m\u001b[38;5;241;43m.\u001b[39;49m\u001b[43mselect\u001b[49m\u001b[43m(\u001b[49m\u001b[38;5;124;43m'\u001b[39;49m\u001b[38;5;124;43mbackbone\u001b[39;49m\u001b[38;5;124;43m'\u001b[39;49m\u001b[43m)\u001b[49m\u001b[43m]\u001b[49m\u001b[43m)\u001b[49m)\n",
      "File \u001b[0;32m~/.conda/envs/UROP/lib/python3.10/site-packages/mdtraj/core/trajectory.py:1806\u001b[0m, in \u001b[0;36mTrajectory.atom_slice\u001b[0;34m(self, atom_indices, inplace)\u001b[0m\n\u001b[1;32m   1804\u001b[0m topology \u001b[38;5;241m=\u001b[39m \u001b[38;5;28;01mNone\u001b[39;00m\n\u001b[1;32m   1805\u001b[0m \u001b[38;5;28;01mif\u001b[39;00m \u001b[38;5;28mself\u001b[39m\u001b[38;5;241m.\u001b[39m_topology \u001b[38;5;129;01mis\u001b[39;00m \u001b[38;5;129;01mnot\u001b[39;00m \u001b[38;5;28;01mNone\u001b[39;00m:\n\u001b[0;32m-> 1806\u001b[0m     topology \u001b[38;5;241m=\u001b[39m \u001b[38;5;28;43mself\u001b[39;49m\u001b[38;5;241;43m.\u001b[39;49m\u001b[43m_topology\u001b[49m\u001b[38;5;241;43m.\u001b[39;49m\u001b[43msubset\u001b[49m\u001b[43m(\u001b[49m\u001b[43matom_indices\u001b[49m\u001b[43m)\u001b[49m\n\u001b[1;32m   1808\u001b[0m \u001b[38;5;28;01mif\u001b[39;00m inplace:\n\u001b[1;32m   1809\u001b[0m     \u001b[38;5;28;01mif\u001b[39;00m \u001b[38;5;28mself\u001b[39m\u001b[38;5;241m.\u001b[39m_topology \u001b[38;5;129;01mis\u001b[39;00m \u001b[38;5;129;01mnot\u001b[39;00m \u001b[38;5;28;01mNone\u001b[39;00m:\n",
      "File \u001b[0;32m~/.conda/envs/UROP/lib/python3.10/site-packages/mdtraj/core/topology.py:1025\u001b[0m, in \u001b[0;36mTopology.subset\u001b[0;34m(self, atom_indices)\u001b[0m\n\u001b[1;32m   1012\u001b[0m \u001b[38;5;28;01mdef\u001b[39;00m \u001b[38;5;21msubset\u001b[39m(\u001b[38;5;28mself\u001b[39m, atom_indices):\n\u001b[1;32m   1013\u001b[0m     \u001b[38;5;124;03m\"\"\"Create a new Topology from a subset of the atoms in an existing topology.\u001b[39;00m\n\u001b[1;32m   1014\u001b[0m \n\u001b[1;32m   1015\u001b[0m \u001b[38;5;124;03m    Notes\u001b[39;00m\n\u001b[0;32m   (...)\u001b[0m\n\u001b[1;32m   1023\u001b[0m \u001b[38;5;124;03m        like to retain.\u001b[39;00m\n\u001b[1;32m   1024\u001b[0m \u001b[38;5;124;03m    \"\"\"\u001b[39;00m\n\u001b[0;32m-> 1025\u001b[0m     \u001b[38;5;28;01mreturn\u001b[39;00m \u001b[43m_topology_from_subset\u001b[49m\u001b[43m(\u001b[49m\u001b[38;5;28;43mself\u001b[39;49m\u001b[43m,\u001b[49m\u001b[43m \u001b[49m\u001b[43matom_indices\u001b[49m\u001b[43m)\u001b[49m\n",
      "File \u001b[0;32m~/.conda/envs/UROP/lib/python3.10/site-packages/mdtraj/core/topology.py:96\u001b[0m, in \u001b[0;36m_topology_from_subset\u001b[0;34m(topology, atom_indices)\u001b[0m\n\u001b[1;32m     94\u001b[0m newResidue \u001b[38;5;241m=\u001b[39m \u001b[38;5;28;01mNone\u001b[39;00m\n\u001b[1;32m     95\u001b[0m \u001b[38;5;28;01mfor\u001b[39;00m atom \u001b[38;5;129;01min\u001b[39;00m residue\u001b[38;5;241m.\u001b[39m_atoms:\n\u001b[0;32m---> 96\u001b[0m     \u001b[38;5;28;01mif\u001b[39;00m \u001b[43matom\u001b[49m\u001b[38;5;241;43m.\u001b[39;49m\u001b[43mindex\u001b[49m\u001b[43m \u001b[49m\u001b[38;5;129;43;01min\u001b[39;49;00m\u001b[43m \u001b[49m\u001b[43matom_indices\u001b[49m:\n\u001b[1;32m     97\u001b[0m         \u001b[38;5;28;01mtry\u001b[39;00m:  \u001b[38;5;66;03m# OpenMM Topology objects don't have serial attributes, so we have to check first.\u001b[39;00m\n\u001b[1;32m     98\u001b[0m             serial \u001b[38;5;241m=\u001b[39m atom\u001b[38;5;241m.\u001b[39mserial\n",
      "\u001b[0;31mValueError\u001b[0m: The truth value of an array with more than one element is ambiguous. Use a.any() or a.all()"
     ]
    }
   ],
   "source": [
    "print(merged[0].atom_slice([merged.top.select('backbone')]))"
   ]
  },
  {
   "cell_type": "code",
   "execution_count": 35,
   "metadata": {},
   "outputs": [],
   "source": [
    "backbone = [a.index for a in merged.topology.atoms if a.name == 'CA']"
   ]
  },
  {
   "cell_type": "code",
   "execution_count": 37,
   "metadata": {},
   "outputs": [
    {
     "data": {
      "text/plain": [
       "<mdtraj.Trajectory with 300000 frames, 648 atoms, 162 residues, without unitcells at 0x7f2eb322fe50>"
      ]
     },
     "execution_count": 37,
     "metadata": {},
     "output_type": "execute_result"
    }
   ],
   "source": [
    "merged.restrict_atoms(merged.topology.select('backbone'))"
   ]
  },
  {
   "cell_type": "code",
   "execution_count": null,
   "metadata": {},
   "outputs": [],
   "source": []
  }
 ],
 "metadata": {
  "kernelspec": {
   "display_name": "Python [conda env:.conda-UROP]",
   "language": "python",
   "name": "conda-env-.conda-UROP-py"
  },
  "language_info": {
   "codemirror_mode": {
    "name": "ipython",
    "version": 3
   },
   "file_extension": ".py",
   "mimetype": "text/x-python",
   "name": "python",
   "nbconvert_exporter": "python",
   "pygments_lexer": "ipython3",
   "version": "3.10.5"
  },
  "latex_envs": {
   "LaTeX_envs_menu_present": true,
   "autoclose": false,
   "autocomplete": true,
   "bibliofile": "biblio.bib",
   "cite_by": "apalike",
   "current_citInitial": 1,
   "eqLabelWithNumbers": true,
   "eqNumInitial": 1,
   "hotkeys": {
    "equation": "Ctrl-E",
    "itemize": "Ctrl-I"
   },
   "labels_anchors": false,
   "latex_user_defs": false,
   "report_style_numbering": false,
   "user_envs_cfg": false
  },
  "toc": {
   "base_numbering": 1,
   "nav_menu": {},
   "number_sections": true,
   "sideBar": true,
   "skip_h1_title": false,
   "title_cell": "Table of Contents",
   "title_sidebar": "Contents",
   "toc_cell": false,
   "toc_position": {},
   "toc_section_display": true,
   "toc_window_display": false
  }
 },
 "nbformat": 4,
 "nbformat_minor": 2
}
