{
 "cells": [
  {
   "cell_type": "markdown",
   "metadata": {},
   "source": [
    "### Pytorch Built-in Transformer on IC"
   ]
  },
  {
   "cell_type": "code",
   "execution_count": 1,
   "metadata": {},
   "outputs": [],
   "source": [
    "import numpy as np \n",
    "import pandas as pd \n",
    "import matplotlib.pyplot as plt\n",
    "import os\n",
    "\n",
    "import torch\n",
    "import torch.nn as nn\n",
    "import torch.nn.functional as F\n",
    "import torch.distributions as dist\n",
    "import torch.optim as optim\n",
    "\n",
    "from torch.utils.data import DataLoader\n",
    "import sys\n",
    "import os\n",
    "\n",
    "#Custom\n",
    "import utilities\n",
    "torch.max_split_size_mb = 6000"
   ]
  },
  {
   "cell_type": "markdown",
   "metadata": {},
   "source": [
    "#### Import Dataset, Calculate Means and Covariances of Bonds and Angles"
   ]
  },
  {
   "cell_type": "code",
   "execution_count": 2,
   "metadata": {},
   "outputs": [
    {
     "name": "stderr",
     "output_type": "stream",
     "text": [
      "Warning: importing 'simtk.openmm' is deprecated.  Import 'openmm' instead.\n"
     ]
    }
   ],
   "source": [
    "MMCD_path = \"./\"\n",
    "sys.path.append(MMCD_path)\n",
    "from mmcd import MMCDataset\n",
    "\n",
    "name = 'decaalanine'\n",
    "data_path = os.path.join(MMCD_path, \"data\")\n",
    "\n",
    "dataset_train = MMCDataset(root = data_path,\n",
    "                           molecule_name = name,\n",
    "                           train = True,\n",
    "                           coordinate_type = 'internal',\n",
    "                           lazy_load = False)\n",
    "\n",
    "whole_loader = DataLoader(dataset_train,\n",
    "                          num_workers = 1,\n",
    "                          batch_size = 160000, #256 is the default batch size\n",
    "                          shuffle = True)\n",
    "\n",
    "train_loader = DataLoader(dataset_train,\n",
    "                          num_workers = 1,\n",
    "                          batch_size = 256, #256 is the default batch size\n",
    "                          shuffle = True)"
   ]
  },
  {
   "cell_type": "code",
   "execution_count": 5,
   "metadata": {},
   "outputs": [],
   "source": [
    "dataset_test = MMCDataset(root = './data',\n",
    "                           molecule_name = name,\n",
    "                           train = False,\n",
    "                           coordinate_type = 'internal')"
   ]
  },
  {
   "cell_type": "code",
   "execution_count": 6,
   "metadata": {},
   "outputs": [],
   "source": [
    "for batch_idx, (data, _) in enumerate(whole_loader):\n",
    "    #Flatten the data into a tensor of size (256, 60) tensor before putting it into the GPU\n",
    "    data = utilities.flatten_data(data) #for deccalanine\n",
    "    #tr_cov, tr_means, bonds_angles_dist = utilities.return_ba_mean_covar(data, dec=False)\n",
    "\n",
    "#del tr_cov, tr_means, whole_loader"
   ]
  },
  {
   "cell_type": "markdown",
   "metadata": {},
   "source": [
    "#### Binning Code"
   ]
  },
  {
   "cell_type": "code",
   "execution_count": 7,
   "metadata": {},
   "outputs": [],
   "source": [
    "def create_boundaries(num_bins, lower_bound, upper_bound):\n",
    "    data_range = upper_bound - lower_bound\n",
    "    delta = data_range/num_bins\n",
    "    result = []\n",
    "    current = lower_bound\n",
    "    for iter in range(0, num_bins, 1):\n",
    "        result.append(current)\n",
    "        current = current + delta\n",
    "    return result\n",
    "\n",
    "def custom_bucketize(input_, num_bins, lower_bound = -torch.pi, upper_bound = torch.pi):\n",
    "    bounds = torch.tensor( create_boundaries(num_bins, lower_bound, upper_bound) )\n",
    "    return torch.bucketize(input_, bounds)\n",
    "\n",
    "def un_bucketize_dict(num_bins, lower_bound = -torch.pi, upper_bound = torch.pi):\n",
    "    unbucket_dict = dict()\n",
    "    data_range = upper_bound - lower_bound\n",
    "    delta = data_range/num_bins\n",
    "    lower_value = lower_bound + delta/2\n",
    "    for iter in range(0, num_bins+1, 1):\n",
    "        unbucket_dict[iter] = lower_value\n",
    "        lower_value = lower_value + delta\n",
    "    return unbucket_dict\n",
    "\n",
    "def un_bucketize(input_, num_bins, device=torch.device('cuda'), \n",
    "                lower_bound = -torch.pi, upper_bound = torch.pi):\n",
    "    unbucket_dict = un_bucketize_dict(num_bins, lower_bound=-torch.pi, upper_bound=torch.pi)\n",
    "    np_input = input_.cpu().numpy()\n",
    "    return np.vectorize(unbucket_dict.get)(np_input)\n",
    "\n",
    "p_x = np.concatenate(\n",
    "    [dataset_train.potential_energy_kJ_per_mole,\n",
    "     dataset_test.potential_energy_kJ_per_mole])"
   ]
  },
  {
   "cell_type": "code",
   "execution_count": 8,
   "metadata": {},
   "outputs": [],
   "source": [
    "dataset_test = MMCDataset(root = './data',\n",
    "                           molecule_name = name,\n",
    "                           train = False,\n",
    "                           coordinate_type = 'internal')\n",
    "\n",
    "dataloader_test = DataLoader(dataset_test,\n",
    "                              num_workers = 8,\n",
    "                              batch_size = 1280,\n",
    "                              shuffle = False)"
   ]
  },
  {
   "cell_type": "markdown",
   "metadata": {},
   "source": [
    "### Calculate Energies"
   ]
  },
  {
   "cell_type": "code",
   "execution_count": 9,
   "metadata": {},
   "outputs": [],
   "source": [
    "def rebuild(flat, data_length = 99):\n",
    "    #data_length = 19 #this is particular to dialene\n",
    "    result = {}\n",
    "    result['reference_particle_1_xyz'] = torch.zeros((flat.shape[0], 3))\n",
    "    result['reference_particle_2_bond'] = flat[:, 0]\n",
    "    result['reference_particle_3_bond'] = flat[:, 1]\n",
    "    result['reference_particle_3_angle'] = flat[:, 2]\n",
    "\n",
    "    start = 3\n",
    "    end = start + data_length\n",
    "    result['bond'] = flat[:, start:end]\n",
    "\n",
    "    start = end\n",
    "    end = start + data_length\n",
    "    result['angle'] = flat[:, start:end]\n",
    "\n",
    "    start = end\n",
    "    end = start + data_length\n",
    "    result['dihedral'] = flat[:, start:end]\n",
    "\n",
    "    return result"
   ]
  },
  {
   "cell_type": "code",
   "execution_count": 10,
   "metadata": {},
   "outputs": [
    {
     "name": "stderr",
     "output_type": "stream",
     "text": [
      "/home/gridsan/jzheng/.conda/envs/UROP/lib/python3.7/site-packages/ipykernel_launcher.py:13: UserWarning: torch.searchsorted(): input value tensor is non-contiguous, this will lower the performance due to extra data copy when converting non-contiguous tensor to contiguous, please use contiguous input value tensor if possible. This message will only appear once per program. (Triggered internally at  /opt/conda/conda-bld/pytorch_1646755953518/work/aten/src/ATen/native/BucketizationUtils.h:28.)\n",
      "  del sys.path[0]\n",
      "/home/gridsan/jzheng/.conda/envs/UROP/lib/python3.7/site-packages/ipykernel_launcher.py:7: UserWarning: To copy construct from a tensor, it is recommended to use sourceTensor.clone().detach() or sourceTensor.clone().detach().requires_grad_(True), rather than torch.tensor(sourceTensor).\n",
      "  import sys\n"
     ]
    },
    {
     "data": {
      "image/png": "[encoded data removed]",
      "text/plain": [
       "<Figure size 432x288 with 1 Axes>"
      ]
     },
     "metadata": {
      "needs_background": "light"
     },
     "output_type": "display_data"
    }
   ],
   "source": [
    "data_small = data[0:5000, :]\n",
    "ba = data_small[:, :-99]\n",
    "dihedrals = data_small[:, 201:]\n",
    "bucketized_dihedrals = custom_bucketize(dihedrals, 50)\n",
    "unbucketized_dihedrals = un_bucketize(bucketized_dihedrals, 50)\n",
    "approx = torch.cat([ba, torch.tensor(unbucketized_dihedrals)], dim=1)\n",
    "approx = rebuild(torch.tensor(approx), data_length=99)\n",
    "potential_energy_q_theta = dataset_train.compute_potential_energy_for_ic(approx)\n",
    "plt.hist(potential_energy_q_theta, range =(150, 1500), bins = 100, alpha = 0.5, label = \"$x \\sim p_{50}(x)$\")\n",
    "plt.hist(p_x[0:5000], range =(150, 1500), bins = 100, alpha = 0.5, label = \"$x \\sim p(x)$\")\n",
    "plt.title(\"Energy Overlap of True Samples and \\n Discretized Samples of Deca-alanine, 2000 Samples \\n 50 Bins\")\n",
    "plt.legend(prop={'size': 12})\n",
    "plt.xlabel('Energies in $kJ \\cdot mol^{-1}$')\n",
    "plt.ylabel('Count')\n",
    "plt.show()"
   ]
  },
  {
   "cell_type": "code",
   "execution_count": 11,
   "metadata": {},
   "outputs": [
    {
     "name": "stderr",
     "output_type": "stream",
     "text": [
      "/home/gridsan/jzheng/.conda/envs/UROP/lib/python3.7/site-packages/ipykernel_launcher.py:7: UserWarning: To copy construct from a tensor, it is recommended to use sourceTensor.clone().detach() or sourceTensor.clone().detach().requires_grad_(True), rather than torch.tensor(sourceTensor).\n",
      "  import sys\n"
     ]
    },
    {
     "data": {
      "image/png": "[encoded data removed]",
      "text/plain": [
       "<Figure size 432x288 with 1 Axes>"
      ]
     },
     "metadata": {
      "needs_background": "light"
     },
     "output_type": "display_data"
    }
   ],
   "source": [
    "data_small = data[0:5000, :]\n",
    "ba = data_small[:, :-99]\n",
    "dihedrals = data_small[:, 201:]\n",
    "bucketized_dihedrals = custom_bucketize(dihedrals, 300)\n",
    "unbucketized_dihedrals = un_bucketize(bucketized_dihedrals, 300)\n",
    "approx = torch.cat([ba, torch.tensor(unbucketized_dihedrals)], dim=1)\n",
    "approx = rebuild(torch.tensor(approx), data_length=99)\n",
    "potential_energy_q_theta = dataset_train.compute_potential_energy_for_ic(approx)\n",
    "\n",
    "plt.hist(potential_energy_q_theta, range =(150, 500), bins = 100, alpha = 0.5, label = \"$x \\sim p_{300}(x)$\")\n",
    "plt.hist(p_x[0:5000], range =(150, 500), bins = 100, alpha = 0.5, label = \"$x \\sim p(x)$\")\n",
    "plt.title(\"Energy Overlap of True Samples and \\n Discretized Samples of Deca-alanine, 5000 Samples \\n 300 Bins\")\n",
    "plt.legend(prop={'size': 12})\n",
    "plt.xlabel('Energies in $kJ \\cdot mol^{-1}$')\n",
    "plt.ylabel('Count')\n",
    "plt.show()"
   ]
  },
  {
   "cell_type": "code",
   "execution_count": 12,
   "metadata": {},
   "outputs": [
    {
     "name": "stderr",
     "output_type": "stream",
     "text": [
      "/home/gridsan/jzheng/.conda/envs/UROP/lib/python3.7/site-packages/ipykernel_launcher.py:7: UserWarning: To copy construct from a tensor, it is recommended to use sourceTensor.clone().detach() or sourceTensor.clone().detach().requires_grad_(True), rather than torch.tensor(sourceTensor).\n",
      "  import sys\n"
     ]
    },
    {
     "data": {
      "image/png": "[encoded data removed]",
      "text/plain": [
       "<Figure size 432x288 with 1 Axes>"
      ]
     },
     "metadata": {
      "needs_background": "light"
     },
     "output_type": "display_data"
    }
   ],
   "source": [
    "data_small = data[0:5000, :]\n",
    "ba = data_small[:, :-99]\n",
    "dihedrals = data_small[:, 201:]\n",
    "bucketized_dihedrals = custom_bucketize(dihedrals, 400)\n",
    "unbucketized_dihedrals = un_bucketize(bucketized_dihedrals, 400)\n",
    "approx = torch.cat([ba, torch.tensor(unbucketized_dihedrals)], dim=1)\n",
    "approx = rebuild(torch.tensor(approx), data_length=99)\n",
    "potential_energy_q_theta = dataset_train.compute_potential_energy_for_ic(approx)\n",
    "\n",
    "plt.hist(potential_energy_q_theta, range =(150, 500), bins = 100, alpha = 0.5, label = \"$x \\sim p_{300}(x)$\")\n",
    "plt.hist(p_x[0:5000], range =(150, 500), bins = 100, alpha = 0.5, label = \"$x \\sim p(x)$\")\n",
    "plt.title(\"Energy Overlap of True Samples and \\n Discretized Samples of Deca-alanine, 5000 Samples \\n 400 Bins\")\n",
    "plt.legend(prop={'size': 12})\n",
    "plt.xlabel('Energies in $kJ \\cdot mol^{-1}$')\n",
    "plt.ylabel('Count')\n",
    "plt.show()"
   ]
  },
  {
   "cell_type": "markdown",
   "metadata": {},
   "source": [
    "#### 629 Bins"
   ]
  },
  {
   "cell_type": "code",
   "execution_count": 13,
   "metadata": {},
   "outputs": [
    {
     "name": "stderr",
     "output_type": "stream",
     "text": [
      "/home/gridsan/jzheng/.conda/envs/UROP/lib/python3.7/site-packages/ipykernel_launcher.py:7: UserWarning: To copy construct from a tensor, it is recommended to use sourceTensor.clone().detach() or sourceTensor.clone().detach().requires_grad_(True), rather than torch.tensor(sourceTensor).\n",
      "  import sys\n"
     ]
    },
    {
     "data": {
      "image/png": "[encoded data removed]",
      "text/plain": [
       "<Figure size 432x288 with 1 Axes>"
      ]
     },
     "metadata": {
      "needs_background": "light"
     },
     "output_type": "display_data"
    }
   ],
   "source": [
    "data_small = data[0:5000, :]\n",
    "ba = data_small[:, :-99]\n",
    "dihedrals = data_small[:, 201:]\n",
    "bucketized_dihedrals = custom_bucketize(dihedrals, 629)\n",
    "unbucketized_dihedrals = un_bucketize(bucketized_dihedrals, 629)\n",
    "approx = torch.cat([ba, torch.tensor(unbucketized_dihedrals)], dim=1)\n",
    "approx = rebuild(torch.tensor(approx), data_length=99)\n",
    "potential_energy_q_theta = dataset_train.compute_potential_energy_for_ic(approx)\n",
    "\n",
    "plt.hist(potential_energy_q_theta, range =(150, 500), bins = 100, alpha = 0.5, label = \"$x \\sim p_{629}(x)$\")\n",
    "plt.hist(p_x[0:5000], range =(150, 500), bins = 100, alpha = 0.5, label = \"$x \\sim p(x)$\")\n",
    "plt.title(\"Energy Overlap of True Samples and \\n Discretized Samples of Deca-alanine, 5000 Samples \\n 629 Bins\")\n",
    "plt.legend(prop={'size': 12})\n",
    "plt.xlabel('Energies in $kJ \\cdot mol^{-1}$')\n",
    "plt.ylabel('Count')\n",
    "plt.show()"
   ]
  },
  {
   "cell_type": "markdown",
   "metadata": {},
   "source": [
    "#### 200 Bins"
   ]
  },
  {
   "cell_type": "code",
   "execution_count": 16,
   "metadata": {},
   "outputs": [
    {
     "name": "stderr",
     "output_type": "stream",
     "text": [
      "/home/gridsan/jzheng/.conda/envs/UROP/lib/python3.7/site-packages/ipykernel_launcher.py:7: UserWarning: To copy construct from a tensor, it is recommended to use sourceTensor.clone().detach() or sourceTensor.clone().detach().requires_grad_(True), rather than torch.tensor(sourceTensor).\n",
      "  import sys\n"
     ]
    },
    {
     "data": {
      "image/png": "[encoded data removed]",
      "text/plain": [
       "<Figure size 432x288 with 1 Axes>"
      ]
     },
     "metadata": {
      "needs_background": "light"
     },
     "output_type": "display_data"
    }
   ],
   "source": [
    "data_small = data[0:5000, :]\n",
    "ba = data_small[:, :-99]\n",
    "dihedrals = data_small[:, 201:]\n",
    "bucketized_dihedrals = custom_bucketize(dihedrals, 200)\n",
    "unbucketized_dihedrals = un_bucketize(bucketized_dihedrals, 200)\n",
    "approx = torch.cat([ba, torch.tensor(unbucketized_dihedrals)], dim=1)\n",
    "approx = rebuild(torch.tensor(approx), data_length=99)\n",
    "potential_energy_q_theta = dataset_train.compute_potential_energy_for_ic(approx)\n",
    "plt.hist(potential_energy_q_theta, range =(150, 600), bins = 100, alpha = 0.5, label = \"$x \\sim p_{200}(x)$\")\n",
    "plt.hist(p_x[0:5000], range =(150, 600), bins = 100, alpha = 0.5, label = \"$x \\sim p(x)$\")\n",
    "plt.title(\"Energy Overlap of True Samples and \\n Discretized Samples of Deca-alanine, 2000 Samples \\n 200 Bins\")\n",
    "plt.legend(prop={'size': 12})\n",
    "plt.xlabel('Energies in $kJ \\cdot mol^{-1}$')\n",
    "plt.ylabel('Count')\n",
    "plt.show()"
   ]
  },
  {
   "cell_type": "markdown",
   "metadata": {},
   "source": [
    "$$p_{629}(x)$$\n",
    "$$p(x)$$"
   ]
  },
  {
   "cell_type": "code",
   "execution_count": null,
   "metadata": {},
   "outputs": [],
   "source": []
  }
 ],
 "metadata": {
  "interpreter": {
   "hash": "fa1a0f1d8001e7d7ded6ed3cab37f5b119c8232712ff2673b521ed90eee14301"
  },
  "kernelspec": {
   "display_name": "Python [conda env:.conda-UROP]",
   "language": "python",
   "name": "conda-env-.conda-UROP-py"
  },
  "language_info": {
   "codemirror_mode": {
    "name": "ipython",
    "version": 3
   },
   "file_extension": ".py",
   "mimetype": "text/x-python",
   "name": "python",
   "nbconvert_exporter": "python",
   "pygments_lexer": "ipython3",
   "version": "3.7.13"
  },
  "latex_envs": {
   "LaTeX_envs_menu_present": true,
   "autoclose": false,
   "autocomplete": true,
   "bibliofile": "biblio.bib",
   "cite_by": "apalike",
   "current_citInitial": 1,
   "eqLabelWithNumbers": true,
   "eqNumInitial": 1,
   "hotkeys": {
    "equation": "Ctrl-E",
    "itemize": "Ctrl-I"
   },
   "labels_anchors": false,
   "latex_user_defs": false,
   "report_style_numbering": false,
   "user_envs_cfg": false
  },
  "toc": {
   "base_numbering": 1,
   "nav_menu": {},
   "number_sections": true,
   "sideBar": true,
   "skip_h1_title": false,
   "title_cell": "Table of Contents",
   "title_sidebar": "Contents",
   "toc_cell": false,
   "toc_position": {},
   "toc_section_display": true,
   "toc_window_display": false
  },
  "varInspector": {
   "cols": {
    "lenName": 16,
    "lenType": 16,
    "lenVar": 40
   },
   "kernels_config": {
    "python": {
     "delete_cmd_postfix": "",
     "delete_cmd_prefix": "del ",
     "library": "var_list.py",
     "varRefreshCmd": "print(var_dic_list())"
    },
    "r": {
     "delete_cmd_postfix": ") ",
     "delete_cmd_prefix": "rm(",
     "library": "var_list.r",
     "varRefreshCmd": "cat(var_dic_list()) "
    }
   },
   "types_to_exclude": [
    "module",
    "function",
    "builtin_function_or_method",
    "instance",
    "_Feature"
   ],
   "window_display": false
  },
  "vscode": {
   "interpreter": {
    "hash": "6bdb4c9c3f61b306428a8735aa29fdb3d47c708c66b6a0572dccc6544bde0e67"
   }
  }
 },
 "nbformat": 4,
 "nbformat_minor": 2
}
